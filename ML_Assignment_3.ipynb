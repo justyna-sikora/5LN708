{
 "cells": [
  {
   "cell_type": "markdown",
   "metadata": {},
   "source": [
    "## Assignment 3: Evaluating and extending an RNN based POS tagger"
   ]
  },
  {
   "cell_type": "code",
   "execution_count": 1,
   "metadata": {
    "colab": {
     "base_uri": "https://localhost:8080/"
    },
    "id": "W2UxiC_qTywi",
    "outputId": "3a6bfa3e-d74c-4086-bbf5-4566a0b7b708"
   },
   "outputs": [
    {
     "name": "stdout",
     "output_type": "stream",
     "text": [
      "--2021-05-19 21:47:00--  https://raw.githubusercontent.com/UniversalDependencies/UD_Polish-LFG/master/pl_lfg-ud-dev.conllu\n",
      "Resolving raw.githubusercontent.com (raw.githubusercontent.com)... 185.199.108.133, 185.199.109.133, 185.199.110.133, ...\n",
      "Connecting to raw.githubusercontent.com (raw.githubusercontent.com)|185.199.108.133|:443... connected.\n",
      "HTTP request sent, awaiting response... 200 OK\n",
      "Length: 1483872 (1.4M) [text/plain]\n",
      "Saving to: ‘pl_lfg-ud-dev.conllu’\n",
      "\n",
      "pl_lfg-ud-dev.conll 100%[===================>]   1.42M  --.-KB/s    in 0.06s   \n",
      "\n",
      "2021-05-19 21:47:01 (23.5 MB/s) - ‘pl_lfg-ud-dev.conllu’ saved [1483872/1483872]\n",
      "\n",
      "--2021-05-19 21:47:01--  https://raw.githubusercontent.com/UniversalDependencies/UD_Polish-LFG/master/pl_lfg-ud-test.conllu\n",
      "Resolving raw.githubusercontent.com (raw.githubusercontent.com)... 185.199.108.133, 185.199.109.133, 185.199.110.133, ...\n",
      "Connecting to raw.githubusercontent.com (raw.githubusercontent.com)|185.199.108.133|:443... connected.\n",
      "HTTP request sent, awaiting response... 200 OK\n",
      "Length: 1489053 (1.4M) [text/plain]\n",
      "Saving to: ‘pl_lfg-ud-test.conllu’\n",
      "\n",
      "pl_lfg-ud-test.conl 100%[===================>]   1.42M  --.-KB/s    in 0.07s   \n",
      "\n",
      "2021-05-19 21:47:01 (19.5 MB/s) - ‘pl_lfg-ud-test.conllu’ saved [1489053/1489053]\n",
      "\n",
      "--2021-05-19 21:47:01--  https://raw.githubusercontent.com/UniversalDependencies/UD_Polish-LFG/master/pl_lfg-ud-train.conllu\n",
      "Resolving raw.githubusercontent.com (raw.githubusercontent.com)... 185.199.108.133, 185.199.109.133, 185.199.110.133, ...\n",
      "Connecting to raw.githubusercontent.com (raw.githubusercontent.com)|185.199.108.133|:443... connected.\n",
      "HTTP request sent, awaiting response... 200 OK\n",
      "Length: 11898531 (11M) [text/plain]\n",
      "Saving to: ‘pl_lfg-ud-train.conllu’\n",
      "\n",
      "pl_lfg-ud-train.con 100%[===================>]  11.35M  37.4MB/s    in 0.3s    \n",
      "\n",
      "2021-05-19 21:47:02 (37.4 MB/s) - ‘pl_lfg-ud-train.conllu’ saved [11898531/11898531]\n",
      "\n",
      "--2021-05-19 21:47:02--  https://raw.githubusercontent.com/UniversalDependencies/UD_Swedish-LinES/master/sv_lines-ud-test.conllu\n",
      "Resolving raw.githubusercontent.com (raw.githubusercontent.com)... 185.199.108.133, 185.199.109.133, 185.199.110.133, ...\n",
      "Connecting to raw.githubusercontent.com (raw.githubusercontent.com)|185.199.108.133|:443... connected.\n",
      "HTTP request sent, awaiting response... 200 OK\n",
      "Length: 1359074 (1.3M) [text/plain]\n",
      "Saving to: ‘sv_lines-ud-test.conllu’\n",
      "\n",
      "sv_lines-ud-test.co 100%[===================>]   1.30M  --.-KB/s    in 0.07s   \n",
      "\n",
      "2021-05-19 21:47:02 (17.3 MB/s) - ‘sv_lines-ud-test.conllu’ saved [1359074/1359074]\n",
      "\n",
      "--2021-05-19 21:47:02--  https://raw.githubusercontent.com/UniversalDependencies/UD_Swedish-LinES/master/sv_lines-ud-train.conllu\n",
      "Resolving raw.githubusercontent.com (raw.githubusercontent.com)... 185.199.108.133, 185.199.109.133, 185.199.110.133, ...\n",
      "Connecting to raw.githubusercontent.com (raw.githubusercontent.com)|185.199.108.133|:443... connected.\n",
      "HTTP request sent, awaiting response... 200 OK\n",
      "Length: 4416145 (4.2M) [text/plain]\n",
      "Saving to: ‘sv_lines-ud-train.conllu’\n",
      "\n",
      "sv_lines-ud-train.c 100%[===================>]   4.21M  28.1MB/s    in 0.2s    \n",
      "\n",
      "2021-05-19 21:47:03 (28.1 MB/s) - ‘sv_lines-ud-train.conllu’ saved [4416145/4416145]\n",
      "\n",
      "--2021-05-19 21:47:03--  https://raw.githubusercontent.com/UniversalDependencies/UD_Swedish-LinES/master/sv_lines-ud-dev.conllu\n",
      "Resolving raw.githubusercontent.com (raw.githubusercontent.com)... 185.199.108.133, 185.199.109.133, 185.199.110.133, ...\n",
      "Connecting to raw.githubusercontent.com (raw.githubusercontent.com)|185.199.108.133|:443... connected.\n",
      "HTTP request sent, awaiting response... 200 OK\n",
      "Length: 1470457 (1.4M) [text/plain]\n",
      "Saving to: ‘sv_lines-ud-dev.conllu’\n",
      "\n",
      "sv_lines-ud-dev.con 100%[===================>]   1.40M  --.-KB/s    in 0.08s   \n",
      "\n",
      "2021-05-19 21:47:03 (18.1 MB/s) - ‘sv_lines-ud-dev.conllu’ saved [1470457/1470457]\n",
      "\n",
      "--2021-05-19 21:47:03--  https://raw.githubusercontent.com/UniversalDependencies/UD_English-EWT/master/en_ewt-ud-test.conllu\n",
      "Resolving raw.githubusercontent.com (raw.githubusercontent.com)... 185.199.109.133, 185.199.111.133, 185.199.110.133, ...\n",
      "Connecting to raw.githubusercontent.com (raw.githubusercontent.com)|185.199.109.133|:443... connected.\n",
      "HTTP request sent, awaiting response... 200 OK\n",
      "Length: 1713436 (1.6M) [text/plain]\n",
      "Saving to: ‘en_ewt-ud-test.conllu’\n",
      "\n",
      "en_ewt-ud-test.conl 100%[===================>]   1.63M  --.-KB/s    in 0.08s   \n",
      "\n",
      "2021-05-19 21:47:04 (19.6 MB/s) - ‘en_ewt-ud-test.conllu’ saved [1713436/1713436]\n",
      "\n",
      "--2021-05-19 21:47:04--  https://raw.githubusercontent.com/UniversalDependencies/UD_English-EWT/master/en_ewt-ud-dev.conllu\n",
      "Resolving raw.githubusercontent.com (raw.githubusercontent.com)... 185.199.108.133, 185.199.109.133, 185.199.110.133, ...\n",
      "Connecting to raw.githubusercontent.com (raw.githubusercontent.com)|185.199.108.133|:443... connected.\n",
      "HTTP request sent, awaiting response... 200 OK\n",
      "Length: 1712318 (1.6M) [text/plain]\n",
      "Saving to: ‘en_ewt-ud-dev.conllu’\n",
      "\n",
      "en_ewt-ud-dev.conll 100%[===================>]   1.63M  --.-KB/s    in 0.08s   \n",
      "\n",
      "2021-05-19 21:47:04 (19.9 MB/s) - ‘en_ewt-ud-dev.conllu’ saved [1712318/1712318]\n",
      "\n",
      "--2021-05-19 21:47:04--  https://raw.githubusercontent.com/UniversalDependencies/UD_English-EWT/master/en_ewt-ud-train.conllu\n",
      "Resolving raw.githubusercontent.com (raw.githubusercontent.com)... 185.199.111.133, 185.199.108.133, 185.199.110.133, ...\n",
      "Connecting to raw.githubusercontent.com (raw.githubusercontent.com)|185.199.111.133|:443... connected.\n",
      "HTTP request sent, awaiting response... 200 OK\n",
      "Length: 13473379 (13M) [text/plain]\n",
      "Saving to: ‘en_ewt-ud-train.conllu’\n",
      "\n",
      "en_ewt-ud-train.con 100%[===================>]  12.85M  39.9MB/s    in 0.3s    \n",
      "\n",
      "2021-05-19 21:47:05 (39.9 MB/s) - ‘en_ewt-ud-train.conllu’ saved [13473379/13473379]\n",
      "\n"
     ]
    }
   ],
   "source": [
    "# Downloading  Polish, Swedish and English datasets\n",
    "\n",
    "!wget https://raw.githubusercontent.com/UniversalDependencies/UD_Polish-LFG/master/pl_lfg-ud-dev.conllu\n",
    "!wget https://raw.githubusercontent.com/UniversalDependencies/UD_Polish-LFG/master/pl_lfg-ud-test.conllu\n",
    "!wget https://raw.githubusercontent.com/UniversalDependencies/UD_Polish-LFG/master/pl_lfg-ud-train.conllu\n",
    "!wget https://raw.githubusercontent.com/UniversalDependencies/UD_Swedish-LinES/master/sv_lines-ud-test.conllu\n",
    "!wget https://raw.githubusercontent.com/UniversalDependencies/UD_Swedish-LinES/master/sv_lines-ud-train.conllu\n",
    "!wget https://raw.githubusercontent.com/UniversalDependencies/UD_Swedish-LinES/master/sv_lines-ud-dev.conllu\n",
    "!wget https://raw.githubusercontent.com/UniversalDependencies/UD_English-EWT/master/en_ewt-ud-test.conllu\n",
    "!wget https://raw.githubusercontent.com/UniversalDependencies/UD_English-EWT/master/en_ewt-ud-dev.conllu\n",
    "!wget https://raw.githubusercontent.com/UniversalDependencies/UD_English-EWT/master/en_ewt-ud-train.conllu"
   ]
  },
  {
   "cell_type": "code",
   "execution_count": 3,
   "metadata": {
    "id": "7_LylnOLXVK7"
   },
   "outputs": [],
   "source": [
    "# Our standard imports for maths and basic methodology\n",
    "import numpy as np\n",
    "from sklearn.model_selection import train_test_split\n",
    "\n",
    "# For user feedback\n",
    "from tqdm import tqdm\n",
    "import matplotlib.pyplot as plt\n",
    "\n",
    "# Imports for pytorch\n",
    "import torch\n",
    "import torch.nn as nn"
   ]
  },
  {
   "cell_type": "code",
   "execution_count": 3,
   "metadata": {
    "colab": {
     "base_uri": "https://localhost:8080/"
    },
    "id": "iYMK4bqrXWJE",
    "outputId": "b363597a-e97e-47c4-f09b-7ef904bfd743"
   },
   "outputs": [
    {
     "name": "stdout",
     "output_type": "stream",
     "text": [
      "Tesla T4\n"
     ]
    }
   ],
   "source": [
    "if torch.cuda.is_available():\n",
    "  for i in range(torch.cuda.device_count()):\n",
    "    print(torch.cuda.get_device_name(i))\n",
    "else:\n",
    "  print(\"No GPU available\")"
   ]
  },
  {
   "cell_type": "code",
   "execution_count": 6,
   "metadata": {
    "id": "-mzLe3LoGGUs"
   },
   "outputs": [],
   "source": [
    "def baseline(y_train, X_train, y_test, X_test):\n",
    "  majority = {} #creating dictionary with tag/word tuples as keys and frequency as value\n",
    "  for i, l in enumerate(y_train):\n",
    "    for n, tag in enumerate(l):\n",
    "      if (tag, X_train[i][n]) not in majority.keys():\n",
    "        majority[(tag, X_train[i][n])] = 1\n",
    "      else:\n",
    "        majority[(tag, X_train[i][n])] += 1\n",
    "\n",
    "  tag = []   # creating two input lists for the baseline model\n",
    "  for t in y_test:\n",
    "    for i in t:\n",
    "      tag.append(i)\n",
    "\n",
    "  tok = []\n",
    "  for t in X_test:\n",
    "    for i in t:\n",
    "      tok.append(i)\n",
    "\n",
    "  final = []        # The most-frequent-tag baseline model - assigning the most freqent pos tag for a given token \n",
    "  num_correct = 0\n",
    "  for i, s in enumerate(tok):\n",
    "      pos_final = ''\n",
    "      count_final = 0\n",
    "      for pos in tags:\n",
    "          key = (pos, s)\n",
    "          if key in majority:\n",
    "              count = majority[key]\n",
    "              if count > count_final:\n",
    "                  count_final = count\n",
    "                  pos_final = pos\n",
    "      if tag[i] == pos_final: \n",
    "        num_correct += 1\n",
    "                  \n",
    "  print('Baseline accuracy:', num_correct/len(tok)*100)"
   ]
  },
  {
   "cell_type": "code",
   "execution_count": null,
   "metadata": {
    "id": "VBgjm2MlIDvP"
   },
   "outputs": [],
   "source": [
    "##Polish tagger##"
   ]
  },
  {
   "cell_type": "code",
   "execution_count": 106,
   "metadata": {
    "colab": {
     "base_uri": "https://localhost:8080/"
    },
    "id": "6wLSft5RE-m4",
    "outputId": "351c3345-ea3a-4389-ea24-e853746ab1fe"
   },
   "outputs": [
    {
     "name": "stdout",
     "output_type": "stream",
     "text": [
      "The training set includes 15520 sentences\n",
      "The test set includes 1725 sentences\n",
      "['<UNK>', 'słownik', 'zdrowym', 'Dusznik', 'identyfikatory', 'pamiętać', 'ścieżce', 'orła', 'samoloty', 'Blondyny', 'żarówkami', 'trunku', 'sprzedawać', 'pojawi', 'gość']\n",
      "['VERB', 'CCONJ', 'ADJ', 'PUNCT', 'PROPN', 'SCONJ', 'PART', 'NUM', 'AUX', 'ADP', 'PRON', 'DET', 'INTJ', 'ADV', 'NOUN', '<PAD>']\n"
     ]
    }
   ],
   "source": [
    "import re #loading Polish dataset - parsing the conllu files\n",
    "\n",
    "sentences = []\n",
    "sentence = []\n",
    "n = 0\n",
    "for file in ['/content/pl_lfg-ud-dev.conllu', '/content/pl_lfg-ud-train.conllu', '/content/pl_lfg-ud-test.conllu']:\n",
    "  data_file = open(file, \"r\", encoding=\"utf-8\")\n",
    "  for sent in data_file:\n",
    "    if sent[0].isdigit():\n",
    "        if sent[0] == '1' and sent[1] not in (\"0123456789\") and len(sentence) != 0:\n",
    "          sentences.append(sentence)\n",
    "          sentence = []\n",
    "        s = sent.split()\n",
    "        Xy = (s[1], s[3])\n",
    "        sentence.append(Xy)\n",
    "\n",
    "X = [[token for token, tag in sentence] for sentence in sentences]\n",
    "y = [[tag for token, tag in sentence] for sentence in sentences]\n",
    "\n",
    "assert len(X) == len(y)\n",
    "\n",
    "X_train, X_test, y_train, y_test = train_test_split(X, y, test_size=0.1, random_state=0)\n",
    "\n",
    "assert len(X_train) == len(y_train)\n",
    "assert len(X_test) == len(y_test)\n",
    "assert len(X_train)+len(X_test) == len(X)\n",
    "\n",
    "print(\"The training set includes %i sentences\" % len(X_train))\n",
    "print(\"The test set includes %i sentences\" % len(X_test))\n",
    "\n",
    "tokens = {token for sentence in X_train for token in sentence}\n",
    "idx2token = list(tokens)\n",
    "idx2token.insert(0, '<UNK>')\n",
    "idx2token.append('<PAD>')\n",
    "token2idx = {token:idx for idx, token in enumerate(idx2token)}\n",
    "\n",
    "tags = {tag for tags in y_train for tag in tags}\n",
    "idx2tag = list(tags)\n",
    "idx2tag.append('<PAD>')\n",
    "tag2idx = {tag:idx for idx, tag in enumerate(idx2tag)}\n",
    "\n",
    "print(idx2token[:15])\n",
    "print(idx2tag)"
   ]
  },
  {
   "cell_type": "code",
   "execution_count": 86,
   "metadata": {
    "colab": {
     "base_uri": "https://localhost:8080/"
    },
    "id": "XGqXIrA-GZEc",
    "outputId": "304a7253-479c-4a3f-de3e-8e154c501fed"
   },
   "outputs": [
    {
     "name": "stdout",
     "output_type": "stream",
     "text": [
      "Baseline accuracy: 79.70903522205207\n"
     ]
    }
   ],
   "source": [
    "baseline(y_train, X_train, y_test, X_test)"
   ]
  },
  {
   "cell_type": "code",
   "execution_count": 107,
   "metadata": {
    "id": "Y7tpsreUFpKS"
   },
   "outputs": [],
   "source": [
    "class PolishTagger(nn.Module): #to activate dropout the number of layers must be larger than 1\n",
    "  def __init__(self, word_embedding_dim, hidden_dim, vocabulary_size, tagset_size, n_layers, mode, bidirectional = False, dropout = 0):\n",
    "\n",
    "    super(PolishTagger, self).__init__()                                         \n",
    "    self.hidden_dim_ = hidden_dim                                     \n",
    "    self.vocabulary_size_ = vocabulary_size\n",
    "    self.tagset_size_ = tagset_size\n",
    "    self.mode = mode\n",
    "    self.bidirectional = bidirectional\n",
    "    self.dropout = dropout\n",
    "\n",
    "    self._word_embedding = nn.Embedding(num_embeddings=vocabulary_size,         \n",
    "                                         embedding_dim=word_embedding_dim, \n",
    "                                         padding_idx=token2idx['<PAD>'])\n",
    "    \n",
    "    if mode == 'GRU':\n",
    "      self._gru = nn.GRU(input_size=word_embedding_dim,                         \n",
    "                          hidden_size=hidden_dim,                          \n",
    "                          batch_first=True, \n",
    "                          num_layers = n_layers, \n",
    "                          bidirectional = bidirectional,\n",
    "                          dropout = dropout if n_layers > 1 else 0)\n",
    "    elif mode == 'LSTM':\n",
    "        self._lstm = nn.LSTM(input_size=word_embedding_dim,                         \n",
    "                         hidden_size=hidden_dim,\n",
    "                         batch_first=True, \n",
    "                         num_layers = n_layers, \n",
    "                         bidirectional = bidirectional,\n",
    "                         dropout = dropout if n_layers > 1 else 0)\n",
    "    \n",
    "    self._fc = nn.Linear(hidden_dim * 2 if bidirectional else hidden_dim, tagset_size)                          \n",
    "    self._softmax = nn.LogSoftmax(dim=1)                                        \n",
    "    \n",
    "    self.training_loss_ = list()                                                \n",
    "    self.training_accuracy_ = list()\n",
    "\n",
    "    if torch.cuda.is_available():                                               \n",
    "      self.cuda()\n",
    "  \n",
    "  \n",
    "  def pad_and_encode(self, sentences, labels):\n",
    "    assert len(sentences)==len(labels)\n",
    "    assert np.all([len(sentence)==len(tags) for sentence, tags in zip(sentences, labels)])\n",
    "    max_sentence_length = np.max([len(sentence) for sentence in sentences]) \n",
    "    padded_sentences = torch.zeros(len(sentences), max_sentence_length,     \n",
    "                                  dtype=torch.long)\n",
    "    padded_sentences[:] = token2idx['<PAD>']\n",
    "    padded_labels = torch.zeros(len(sentences), max_sentence_length, \n",
    "                                dtype=torch.long)\n",
    "    padded_labels[:] = tag2idx['<PAD>']\n",
    "    for i, (sentence, tags) in enumerate(zip(sentences, labels)):               \n",
    "      for j, token in enumerate(sentence):\n",
    "        if token in token2idx.keys():\n",
    "          padded_sentences[i, j] = token2idx[token]\n",
    "        else:\n",
    "          padded_sentences[i, j] = token2idx['<UNK>']\n",
    "      for j, tag in enumerate(tags):\n",
    "        padded_labels[i, j] = tag2idx[tag]\n",
    "    return padded_sentences, padded_labels\n",
    "\n",
    "\n",
    "  def batch_iterator(self, sentences, labels, batch_size=64):\n",
    "    assert len(sentences) == len(labels)\n",
    "    for i in range(0, len(sentences), batch_size):\n",
    "      X, y = self.pad_and_encode(sentences[i:min(i+batch_size, len(sentences))], \n",
    "                            labels[i:min(i+batch_size, len(sentences))])\n",
    "      if torch.cuda.is_available():                                               \n",
    "         yield (X.cuda(), y.cuda())\n",
    "      else:\n",
    "        yield (X, y)\n",
    "\n",
    "\n",
    "  def fit(self, sent, lab):\n",
    "\n",
    "      self.sent = sent\n",
    "      self.lab = lab\n",
    "      loss_function = nn.NLLLoss(ignore_index=tag2idx['<PAD>'])                       \n",
    "                                                                                  \n",
    "      optimizer = torch.optim.Adam(model.parameters(), lr=0.01)                                \n",
    "\n",
    "      batch_size = 256                                                                               \n",
    "      for epoch in range(5):                                                          \n",
    "        with tqdm(self.batch_iterator(sent, lab, batch_size=256), \n",
    "                  total=len(sent)//batch_size+1, unit=\"batch\", desc=\"Epoch %i\" % epoch) as batches:\n",
    "          for inputs, targets in batches:                                             \n",
    "            model.zero_grad()                                                         \n",
    "            scores = model(inputs)                                                    \n",
    "            loss = loss_function(scores.view(-1, model.tagset_size_),                 \n",
    "                                targets.view(-1))               \n",
    "            loss.backward()                                                          \n",
    "            optimizer.step()                                                          \n",
    "            predictions = scores.argmax(dim=2, keepdim=True).squeeze()                \n",
    "            mask = targets!=tag2idx['<PAD>']                                          \n",
    "            correct = (predictions[mask] == targets[mask]).sum().item()               \n",
    "            accuracy = correct / mask.sum().item()*100\n",
    "            model.training_accuracy_.append(accuracy)                                \n",
    "            model.training_loss_.append(loss.item())                                 \n",
    "            batches.set_postfix(loss=loss.item(), accuracy=accuracy)                 \n",
    "\n",
    "\n",
    "  def forward(self, padded_sentences):\n",
    "      batch_size, max_sentence_length = padded_sentences.size()\n",
    "\n",
    "      embedded_sentences = self._word_embedding(padded_sentences)                   \n",
    "\n",
    "      sentence_lengths = (padded_sentences != token2idx['<PAD>']).sum(dim=1)        \n",
    "      sentence_lengths = sentence_lengths.long().cpu()                            \n",
    "      X = nn.utils.rnn.pack_padded_sequence(embedded_sentences, sentence_lengths, \n",
    "                                            batch_first=True, enforce_sorted=False)\n",
    "      if self.mode == 'GRU':\n",
    "        gru_out, _ = self._gru(X)                                                 \n",
    "        X, _ = nn.utils.rnn.pad_packed_sequence(gru_out, batch_first=True)         \n",
    "      \n",
    "      elif self.mode == 'LSTM':\n",
    "        lstm_out, _ = self._lstm(X)                                                 \n",
    "        X, _ = nn.utils.rnn.pad_packed_sequence(lstm_out, batch_first=True)         \n",
    "\n",
    "      X = X.contiguous().view(-1, X.shape[2])                                     \n",
    "      tag_space = self._fc(X)                                                    \n",
    "      tag_scores = self._softmax(tag_space)                                       \n",
    "      return tag_scores.view(batch_size, max_sentence_length, self.tagset_size_)\n",
    "\n",
    "      \n",
    "\n",
    "  def predict(self, X_test, y_test, batch_size=256):\n",
    "    preds = []\n",
    "    with torch.no_grad():                                                           \n",
    "      for inputs, targets in self.batch_iterator(X_test, y_test, batch_size): \n",
    "        scores = model(inputs)                                                      \n",
    "        predictions = scores.argmax(dim=2, keepdim=True).squeeze()                  \n",
    "        mask = targets!=tag2idx['<PAD>']                                            \n",
    "        preds += predictions[mask]                                                   \n",
    "    return preds\n",
    "\n",
    "  def score(self,X_test, y_test, batch_size=256):\n",
    "    with torch.no_grad():                                                          \n",
    "      n_correct = 0\n",
    "      n_total = 0\n",
    "      for inputs, targets in self.batch_iterator(X_test, y_test, batch_size):\n",
    "        scores = model(inputs)                                                      \n",
    "        predictions = scores.argmax(dim=2, keepdim=True).squeeze()                 \n",
    "        mask = targets!=tag2idx['<PAD>']                                            \n",
    "        n_correct += (predictions[mask] == targets[mask]).sum().item()             \n",
    "        n_total += mask.sum().item()\n",
    "      print(\"Test accuracy %.1f%%\" % (100*n_correct/n_total))\n",
    "\n",
    "\n"
   ]
  },
  {
   "cell_type": "code",
   "execution_count": 116,
   "metadata": {
    "colab": {
     "base_uri": "https://localhost:8080/"
    },
    "id": "juQzNvBiH8YZ",
    "outputId": "f700a1e4-dc18-400d-99c8-534402540c58"
   },
   "outputs": [
    {
     "name": "stdout",
     "output_type": "stream",
     "text": [
      "PolishTagger(\n",
      "  (_word_embedding): Embedding(30570, 96, padding_idx=30569)\n",
      "  (_lstm): LSTM(96, 64, batch_first=True, bidirectional=True)\n",
      "  (_fc): Linear(in_features=128, out_features=15, bias=True)\n",
      "  (_softmax): LogSoftmax(dim=1)\n",
      ")\n"
     ]
    }
   ],
   "source": [
    "model = PolishTagger(word_embedding_dim=96,                                      \n",
    "                   hidden_dim=64,                                          \n",
    "                   vocabulary_size=len(token2idx),                              \n",
    "                   tagset_size=len(tag2idx)-1,\n",
    "                   n_layers = 1, mode = 'LSTM', bidirectional = True)                        \n",
    "print(model)\n"
   ]
  },
  {
   "cell_type": "code",
   "execution_count": 117,
   "metadata": {
    "colab": {
     "base_uri": "https://localhost:8080/"
    },
    "id": "VB9KeeBV3Ao4",
    "outputId": "37cf1282-cb63-42f5-f844-4b6f93557aab"
   },
   "outputs": [
    {
     "name": "stderr",
     "output_type": "stream",
     "text": [
      "Epoch 0: 100%|██████████| 61/61 [00:01<00:00, 35.07batch/s, accuracy=80.6, loss=0.557]\n",
      "Epoch 1: 100%|██████████| 61/61 [00:01<00:00, 35.16batch/s, accuracy=91.7, loss=0.242]\n",
      "Epoch 2: 100%|██████████| 61/61 [00:01<00:00, 35.92batch/s, accuracy=98.3, loss=0.0698]\n",
      "Epoch 3: 100%|██████████| 61/61 [00:01<00:00, 35.65batch/s, accuracy=99.7, loss=0.02]\n",
      "Epoch 4: 100%|██████████| 61/61 [00:01<00:00, 35.77batch/s, accuracy=99.8, loss=0.00992]\n"
     ]
    }
   ],
   "source": [
    "model.fit(X_train, y_train)"
   ]
  },
  {
   "cell_type": "code",
   "execution_count": 118,
   "metadata": {
    "colab": {
     "base_uri": "https://localhost:8080/",
     "height": 297
    },
    "id": "mmN8COZx22AS",
    "outputId": "75d0016a-2140-4bcf-c882-e262e6b2f305"
   },
   "outputs": [
    {
     "data": {
      "image/png": "[encoded data removed]",
      "text/plain": [
       "<Figure size 432x288 with 2 Axes>"
      ]
     },
     "metadata": {
      "needs_background": "light",
      "tags": []
     },
     "output_type": "display_data"
    }
   ],
   "source": [
    "fig = plt.figure(figsize=(6, 4))\n",
    "ax = plt.subplot()\n",
    "ax.set_title(\"Plot for the (hopefully) decreasing loss over epochs\")\n",
    "ax.plot(model.training_loss_, 'b-')\n",
    "ax.set_ylabel(\"Training Loss\", color='b')\n",
    "ax.set_xlabel(\"Epoch\")\n",
    "# ax.set_yscale('log')\n",
    "ax.tick_params(axis='y', labelcolor='b')\n",
    "ax = ax.twinx()\n",
    "ax.plot(model.training_accuracy_, 'r-')\n",
    "ax.set_ylabel(\"Accuracy [%]\", color='r')\n",
    "ax.tick_params(axis='y', labelcolor='r')\n",
    "a = list(ax.axis())\n",
    "a[2] = 0\n",
    "a[3] = 100\n",
    "ax.axis(a)\n",
    "t = np.arange(0, len(model.training_accuracy_), len(X_train)//257)\n",
    "ax.set_xticks(ticks=t)\n",
    "ax.set_xticklabels(labels=np.arange(len(t)))\n",
    "fig.tight_layout()\n",
    "plt.show()"
   ]
  },
  {
   "cell_type": "code",
   "execution_count": 119,
   "metadata": {
    "colab": {
     "base_uri": "https://localhost:8080/"
    },
    "id": "C10e4EmcH72D",
    "outputId": "f1811889-4f1f-42c6-a4d5-d4acf18b3dac"
   },
   "outputs": [
    {
     "name": "stdout",
     "output_type": "stream",
     "text": [
      "Test accuracy 88.5%\n"
     ]
    }
   ],
   "source": [
    "model.score(X_test, y_test)"
   ]
  },
  {
   "cell_type": "code",
   "execution_count": null,
   "metadata": {
    "id": "S_oW9ywAINL4"
   },
   "outputs": [],
   "source": [
    "##English tagger##"
   ]
  },
  {
   "cell_type": "code",
   "execution_count": 4,
   "metadata": {
    "colab": {
     "base_uri": "https://localhost:8080/"
    },
    "id": "jJSbTyP1FA8n",
    "outputId": "b59ce188-9d04-4a46-af2a-4fbcc3526605"
   },
   "outputs": [
    {
     "name": "stdout",
     "output_type": "stream",
     "text": [
      "The training set includes 15575 sentences\n",
      "The test set includes 1731 sentences\n",
      "['<UNK>', 'Beavers', 'Mills', 'PA', 'pitch', 'unfriendly', 'Delainey', 'apologize', 'http://www.bbc.co.uk/news', 'journalists', 'alliance', 'sheeting', 'Zionist', 'godsend', 'Atal']\n",
      "['ADJ', 'PRON', 'SCONJ', 'NOUN', 'PUNCT', 'ADV', 'AUX', '_', 'SYM', 'NUM', 'DET', 'PROPN', 'X', 'INTJ', 'CCONJ', 'PART', 'VERB', 'ADP', '<PAD>']\n"
     ]
    }
   ],
   "source": [
    "import re  #loading English dataset\n",
    "\n",
    "sentences = []\n",
    "sentence = []\n",
    "n = 0\n",
    "for file in ['/content/en_ewt-ud-train.conllu', '/content/en_ewt-ud-test.conllu', '/content/en_ewt-ud-dev.conllu']:\n",
    "  data_file = open(file, \"r\", encoding=\"utf-8\")\n",
    "  for sent in data_file:\n",
    "    if sent[0].isdigit():\n",
    "        if sent[0] == '1' and sent[1] not in (\"0123456789\") and len(sentence) != 0:\n",
    "          sentences.append(sentence)\n",
    "          sentence = []\n",
    "        s = sent.split()\n",
    "        Xy = (s[1], s[3])\n",
    "        sentence.append(Xy)\n",
    "\n",
    "\n",
    "X = [[token for token, tag in sentence] for sentence in sentences]\n",
    "y = [[tag for token, tag in sentence] for sentence in sentences]\n",
    "\n",
    "assert len(X) == len(y)\n",
    "\n",
    "X_train, X_test, y_train, y_test = train_test_split(X, y, test_size=0.1, random_state=0)\n",
    "\n",
    "assert len(X_train) == len(y_train)\n",
    "assert len(X_test) == len(y_test)\n",
    "assert len(X_train)+len(X_test) == len(X)\n",
    "\n",
    "print(\"The training set includes %i sentences\" % len(X_train))\n",
    "print(\"The test set includes %i sentences\" % len(X_test))\n",
    "\n",
    "tokens = {token for sentence in X_train for token in sentence}\n",
    "idx2token = list(tokens)\n",
    "idx2token.insert(0, '<UNK>')\n",
    "idx2token.append('<PAD>')\n",
    "token2idx = {token:idx for idx, token in enumerate(idx2token)}\n",
    "\n",
    "tags = {tag for tags in y_train for tag in tags}\n",
    "idx2tag = list(tags)\n",
    "idx2tag.append('<PAD>')\n",
    "tag2idx = {tag:idx for idx, tag in enumerate(idx2tag)}\n",
    "\n",
    "print(idx2token[:15])\n",
    "print(idx2tag)"
   ]
  },
  {
   "cell_type": "code",
   "execution_count": 7,
   "metadata": {
    "colab": {
     "base_uri": "https://localhost:8080/"
    },
    "id": "q8xBWmcBGkf_",
    "outputId": "326b9d5d-17cb-45f0-ada8-abceb034ab7f"
   },
   "outputs": [
    {
     "name": "stdout",
     "output_type": "stream",
     "text": [
      "Baseline accuracy: 86.67744792268299\n"
     ]
    }
   ],
   "source": [
    "baseline(y_train, X_train, y_test, X_test)"
   ]
  },
  {
   "cell_type": "code",
   "execution_count": 8,
   "metadata": {
    "id": "2xih6ITQFvfD"
   },
   "outputs": [],
   "source": [
    "class EnglishTagger(nn.Module):\n",
    "  def __init__(self, word_embedding_dim, hidden_dim, vocabulary_size, tagset_size, n_layers, mode, bidirectional = False, dropout = 0):\n",
    "\n",
    "    super(EnglishTagger, self).__init__()                                          \n",
    "    self.hidden_dim_ = hidden_dim                                    \n",
    "    self.vocabulary_size_ = vocabulary_size\n",
    "    self.tagset_size_ = tagset_size\n",
    "    self.mode = mode\n",
    "    self.bidirectional = bidirectional\n",
    "    self.dropout = dropout\n",
    "\n",
    "    self._word_embedding = nn.Embedding(num_embeddings=vocabulary_size,         \n",
    "                                         embedding_dim=word_embedding_dim, \n",
    "                                         padding_idx=token2idx['<PAD>'])\n",
    "    \n",
    "    if mode == 'GRU':\n",
    "      self._gru = nn.GRU(input_size=word_embedding_dim,                         \n",
    "                          hidden_size=hidden_dim,                           \n",
    "                          batch_first=True, \n",
    "                          num_layers = n_layers, \n",
    "                          bidirectional = bidirectional,\n",
    "                          dropout = dropout if n_layers > 1 else 0)\n",
    "    elif mode == 'LSTM':\n",
    "        self._lstm = nn.LSTM(input_size=word_embedding_dim,                         \n",
    "                         hidden_size=hidden_dim,\n",
    "                         batch_first=True, \n",
    "                         num_layers = n_layers, \n",
    "                         bidirectional = bidirectional,\n",
    "                         dropout = dropout if n_layers > 1 else 0)\n",
    "    \n",
    "    self._fc = nn.Linear(hidden_dim * 2 if bidirectional else hidden_dim, tagset_size)                         \n",
    "    self._softmax = nn.LogSoftmax(dim=1)                                        \n",
    "    \n",
    "    self.training_loss_ = list()                                               \n",
    "    self.training_accuracy_ = list()\n",
    "\n",
    "    if torch.cuda.is_available():                                               \n",
    "      self.cuda()\n",
    "  \n",
    "  \n",
    "  def pad_and_encode(self, sentences, labels):\n",
    "    assert len(sentences)==len(labels)\n",
    "    assert np.all([len(sentence)==len(tags) for sentence, tags in zip(sentences, labels)])\n",
    "    max_sentence_length = np.max([len(sentence) for sentence in sentences]) \n",
    "    padded_sentences = torch.zeros(len(sentences), max_sentence_length,     \n",
    "                                  dtype=torch.long)\n",
    "    padded_sentences[:] = token2idx['<PAD>']\n",
    "    padded_labels = torch.zeros(len(sentences), max_sentence_length, \n",
    "                                dtype=torch.long)\n",
    "    padded_labels[:] = tag2idx['<PAD>']\n",
    "    for i, (sentence, tags) in enumerate(zip(sentences, labels)):               \n",
    "      for j, token in enumerate(sentence):\n",
    "        if token in token2idx.keys():\n",
    "          padded_sentences[i, j] = token2idx[token]\n",
    "        else:\n",
    "          padded_sentences[i, j] = token2idx['<UNK>']\n",
    "      for j, tag in enumerate(tags):\n",
    "        padded_labels[i, j] = tag2idx[tag]\n",
    "    return padded_sentences, padded_labels\n",
    "\n",
    "\n",
    "  def batch_iterator(self, sentences, labels, batch_size=64):\n",
    "    assert len(sentences) == len(labels)\n",
    "    for i in range(0, len(sentences), batch_size):\n",
    "      X, y = self.pad_and_encode(sentences[i:min(i+batch_size, len(sentences))], \n",
    "                            labels[i:min(i+batch_size, len(sentences))])\n",
    "      if torch.cuda.is_available():                                              \n",
    "         yield (X.cuda(), y.cuda())\n",
    "      else:\n",
    "        yield (X, y)\n",
    " \n",
    "\n",
    "  def fit(self, sent, lab):\n",
    "\n",
    "      self.sent = sent\n",
    "      self.lab = lab\n",
    "      loss_function = nn.NLLLoss(ignore_index=tag2idx['<PAD>'])                      \n",
    "                                                                                  \n",
    "      optimizer = torch.optim.Adam(model.parameters(), lr=0.01)                               \n",
    "\n",
    "      batch_size = 256                                                                               \n",
    "      for epoch in range(5):                                                          \n",
    "        with tqdm(self.batch_iterator(sent, lab, batch_size=256), \n",
    "                  total=len(sent)//batch_size+1, unit=\"batch\", desc=\"Epoch %i\" % epoch) as batches:\n",
    "          for inputs, targets in batches:                                            \n",
    "            model.zero_grad()                                                         \n",
    "            scores = model(inputs)                                                   \n",
    "            loss = loss_function(scores.view(-1, model.tagset_size_),                 \n",
    "                                targets.view(-1))               \n",
    "            loss.backward()                                                           \n",
    "            optimizer.step()                                                          \n",
    "            predictions = scores.argmax(dim=2, keepdim=True).squeeze()                \n",
    "            mask = targets!=tag2idx['<PAD>']                                          \n",
    "            correct = (predictions[mask] == targets[mask]).sum().item()               \n",
    "            accuracy = correct / mask.sum().item()*100\n",
    "            model.training_accuracy_.append(accuracy)                                 \n",
    "            model.training_loss_.append(loss.item())                                  \n",
    "            batches.set_postfix(loss=loss.item(), accuracy=accuracy)                  \n",
    "\n",
    "\n",
    "  def forward(self, padded_sentences):\n",
    "      batch_size, max_sentence_length = padded_sentences.size()\n",
    "\n",
    "      embedded_sentences = self._word_embedding(padded_sentences)                    \n",
    "\n",
    "      sentence_lengths = (padded_sentences != token2idx['<PAD>']).sum(dim=1)        \n",
    "      sentence_lengths = sentence_lengths.long().cpu()                           \n",
    "      X = nn.utils.rnn.pack_padded_sequence(embedded_sentences, sentence_lengths,\n",
    "                                            batch_first=True, enforce_sorted=False)\n",
    "      if self.mode == 'GRU':\n",
    "        gru_out, _ = self._gru(X)                                                 \n",
    "        X, _ = nn.utils.rnn.pad_packed_sequence(gru_out, batch_first=True)         \n",
    "      \n",
    "      elif self.mode == 'LSTM':\n",
    "        lstm_out, _ = self._lstm(X)                                                 \n",
    "        X, _ = nn.utils.rnn.pad_packed_sequence(lstm_out, batch_first=True)         \n",
    "\n",
    "      X = X.contiguous().view(-1, X.shape[2])                                     \n",
    "      tag_space = self._fc(X)                                                     \n",
    "      tag_scores = self._softmax(tag_space)                                       \n",
    "      return tag_scores.view(batch_size, max_sentence_length, self.tagset_size_)\n",
    "\n",
    "      \n",
    "\n",
    "  def predict(self, X_test, y_test, batch_size=256):\n",
    "    preds = []\n",
    "    with torch.no_grad():                                                           \n",
    "      for inputs, targets in self.batch_iterator(X_test, y_test, batch_size): \n",
    "        scores = model(inputs)                                                      \n",
    "        predictions = scores.argmax(dim=2, keepdim=True).squeeze()                  \n",
    "        mask = targets!=tag2idx['<PAD>']                                            \n",
    "        preds += predictions[mask]                                                   \n",
    "    return preds\n",
    "\n",
    "  def score(self,X_test, y_test, batch_size=256):\n",
    "    with torch.no_grad():                                                           \n",
    "      n_correct = 0\n",
    "      n_total = 0\n",
    "      for inputs, targets in self.batch_iterator(X_test, y_test, batch_size): \n",
    "        scores = model(inputs)                                                      \n",
    "        predictions = scores.argmax(dim=2, keepdim=True).squeeze()                  \n",
    "        mask = targets!=tag2idx['<PAD>']                                            \n",
    "        n_correct += (predictions[mask] == targets[mask]).sum().item()              \n",
    "        n_total += mask.sum().item()\n",
    "      print(\"Test accuracy %.1f%%\" % (100*n_correct/n_total))\n",
    "\n",
    "\n"
   ]
  },
  {
   "cell_type": "code",
   "execution_count": 9,
   "metadata": {
    "colab": {
     "base_uri": "https://localhost:8080/"
    },
    "id": "VvtnyvRU5LJ2",
    "outputId": "5d586a55-c577-4c5f-d483-83b937b2e86b"
   },
   "outputs": [
    {
     "name": "stdout",
     "output_type": "stream",
     "text": [
      "EnglishTagger(\n",
      "  (_word_embedding): Embedding(22388, 32, padding_idx=22387)\n",
      "  (_gru): GRU(32, 64, num_layers=2, batch_first=True, dropout=0.2, bidirectional=True)\n",
      "  (_fc): Linear(in_features=128, out_features=18, bias=True)\n",
      "  (_softmax): LogSoftmax(dim=1)\n",
      ")\n"
     ]
    }
   ],
   "source": [
    "model = EnglishTagger(word_embedding_dim=32,                                       \n",
    "                   hidden_dim=64,                                         \n",
    "                   vocabulary_size=len(token2idx),                              \n",
    "                   tagset_size=len(tag2idx)-1,\n",
    "                   n_layers = 2, mode = 'GRU', bidirectional = True, dropout = 0.2)                                  \n",
    "print(model)"
   ]
  },
  {
   "cell_type": "code",
   "execution_count": 11,
   "metadata": {
    "colab": {
     "base_uri": "https://localhost:8080/"
    },
    "id": "exZhujhzH2dO",
    "outputId": "2c082297-786b-497c-f4bd-e94562c4b2bd"
   },
   "outputs": [
    {
     "name": "stderr",
     "output_type": "stream",
     "text": [
      "Epoch 0: 100%|██████████| 61/61 [00:47<00:00,  1.28batch/s, accuracy=79.3, loss=0.626]\n",
      "Epoch 1: 100%|██████████| 61/61 [00:47<00:00,  1.29batch/s, accuracy=89.4, loss=0.337]\n",
      "Epoch 2: 100%|██████████| 61/61 [00:46<00:00,  1.30batch/s, accuracy=94, loss=0.218]\n",
      "Epoch 3: 100%|██████████| 61/61 [00:48<00:00,  1.25batch/s, accuracy=95.4, loss=0.149]\n",
      "Epoch 4: 100%|██████████| 61/61 [00:49<00:00,  1.24batch/s, accuracy=96.4, loss=0.112]\n"
     ]
    }
   ],
   "source": [
    "model.fit(X_train, y_train)"
   ]
  },
  {
   "cell_type": "code",
   "execution_count": 13,
   "metadata": {
    "colab": {
     "base_uri": "https://localhost:8080/",
     "height": 297
    },
    "id": "UCZ4s89b2izX",
    "outputId": "6aa6e839-525e-476d-ed75-3334d2277d6b"
   },
   "outputs": [
    {
     "data": {
      "image/png": "[encoded data removed]",
      "text/plain": [
       "<Figure size 432x288 with 2 Axes>"
      ]
     },
     "metadata": {
      "needs_background": "light",
      "tags": []
     },
     "output_type": "display_data"
    }
   ],
   "source": [
    "fig = plt.figure(figsize=(6, 4))\n",
    "ax = plt.subplot()\n",
    "ax.set_title(\"Plot for the (hopefully) decreasing loss over epochs\")\n",
    "ax.plot(model.training_loss_, 'b-')\n",
    "ax.set_ylabel(\"Training Loss\", color='b')\n",
    "ax.set_xlabel(\"Epoch\")\n",
    "# ax.set_yscale('log')\n",
    "ax.tick_params(axis='y', labelcolor='b')\n",
    "ax = ax.twinx()\n",
    "ax.plot(model.training_accuracy_, 'r-')\n",
    "ax.set_ylabel(\"Accuracy [%]\", color='r')\n",
    "ax.tick_params(axis='y', labelcolor='r')\n",
    "a = list(ax.axis())\n",
    "a[2] = 0\n",
    "a[3] = 100\n",
    "ax.axis(a)\n",
    "t = np.arange(0, len(model.training_accuracy_), len(X_train)//257)\n",
    "ax.set_xticks(ticks=t)\n",
    "ax.set_xticklabels(labels=np.arange(len(t)))\n",
    "fig.tight_layout()\n",
    "plt.show()"
   ]
  },
  {
   "cell_type": "code",
   "execution_count": 71,
   "metadata": {
    "colab": {
     "base_uri": "https://localhost:8080/"
    },
    "id": "w36KuAywH4be",
    "outputId": "ef3395e7-419c-4c66-bb5f-bad72ddfce36"
   },
   "outputs": [
    {
     "name": "stdout",
     "output_type": "stream",
     "text": [
      "Test accuracy 91.5%\n"
     ]
    }
   ],
   "source": [
    "model.score(X_test, y_test)"
   ]
  },
  {
   "cell_type": "code",
   "execution_count": null,
   "metadata": {
    "id": "6WLTNNkRIQ3l"
   },
   "outputs": [],
   "source": [
    "##Swedish tagger##"
   ]
  },
  {
   "cell_type": "code",
   "execution_count": 47,
   "metadata": {
    "colab": {
     "base_uri": "https://localhost:8080/"
    },
    "id": "AtNTpuOfdsOP",
    "outputId": "a27fef54-8e95-416f-981d-d103910ed06a"
   },
   "outputs": [
    {
     "name": "stdout",
     "output_type": "stream",
     "text": [
      "The training set includes 4717 sentences\n",
      "The test set includes 525 sentences\n",
      "['<UNK>', 'kolonialministerns', 'gytter', 'genomförbart', 'La', 'tändes', 'likhetstecken', 'utgöra', 'låta', 'omelett', 'anlända', 'köpman', 'barbariskt', 'pivottabellens', 'ilska']\n",
      "['VERB', 'CCONJ', 'ADJ', 'PUNCT', 'SCONJ', 'PROPN', 'PART', 'NUM', 'AUX', 'X', 'SYM', 'ADP', 'PRON', 'DET', 'INTJ', 'ADV', 'NOUN', '<PAD>']\n"
     ]
    }
   ],
   "source": [
    "import re  #loading Swedish dataset\n",
    "\n",
    "sentences = []\n",
    "sentence = []\n",
    "n = 0\n",
    "for file in ['/content/sv_lines-ud-train.conllu', '/content/sv_lines-ud-dev.conllu', '/content/sv_lines-ud-test.conllu']:\n",
    "  data_file = open(file, \"r\", encoding=\"utf-8\")\n",
    "  for sent in data_file:\n",
    "    if sent[0].isdigit():\n",
    "        if sent[0] == '1' and sent[1] not in (\"0123456789\") and len(sentence) != 0:\n",
    "          sentences.append(sentence)\n",
    "          sentence = []\n",
    "        s = sent.split()\n",
    "        Xy = (s[1], s[3])\n",
    "        sentence.append(Xy)\n",
    "\n",
    "X = [[token for token, tag in sentence] for sentence in sentences]\n",
    "y = [[tag for token, tag in sentence] for sentence in sentences]\n",
    "\n",
    "assert len(X) == len(y)\n",
    "\n",
    "X_train, X_test, y_train, y_test = train_test_split(X, y, test_size=0.1, random_state=0)\n",
    "\n",
    "assert len(X_train) == len(y_train)\n",
    "assert len(X_test) == len(y_test)\n",
    "assert len(X_train)+len(X_test) == len(X)\n",
    "\n",
    "print(\"The training set includes %i sentences\" % len(X_train))\n",
    "print(\"The test set includes %i sentences\" % len(X_test))\n",
    "\n",
    "tokens = {token for sentence in X_train for token in sentence}\n",
    "idx2token = list(tokens)\n",
    "idx2token.insert(0, '<UNK>')\n",
    "idx2token.append('<PAD>')\n",
    "token2idx = {token:idx for idx, token in enumerate(idx2token)}\n",
    "\n",
    "tags = {tag for tags in y_train for tag in tags}\n",
    "idx2tag = list(tags)\n",
    "idx2tag.append('<PAD>')\n",
    "tag2idx = {tag:idx for idx, tag in enumerate(idx2tag)}\n",
    "\n",
    "print(idx2token[:15])\n",
    "print(idx2tag)"
   ]
  },
  {
   "cell_type": "code",
   "execution_count": 48,
   "metadata": {
    "colab": {
     "base_uri": "https://localhost:8080/"
    },
    "id": "yvNAgkRLGsUV",
    "outputId": "a4d006b1-22db-4b7b-dfd1-b6bcc4e394b7"
   },
   "outputs": [
    {
     "name": "stdout",
     "output_type": "stream",
     "text": [
      "Baseline accuracy: 82.5146669734269\n"
     ]
    }
   ],
   "source": [
    "baseline(y_train, X_train, y_test, X_test)"
   ]
  },
  {
   "cell_type": "code",
   "execution_count": 49,
   "metadata": {
    "id": "rR4pG_I4F2Na"
   },
   "outputs": [],
   "source": [
    "class SwedishTagger(nn.Module):\n",
    "  def __init__(self, word_embedding_dim, hidden_dim, vocabulary_size, tagset_size, n_layers, mode, bidirectional = False, dropout = 0):\n",
    "\n",
    "    super(SwedishTagger, self).__init__()                                          \n",
    "    self.hidden_dim_ = hidden_dim                                     \n",
    "    self.vocabulary_size_ = vocabulary_size\n",
    "    self.tagset_size_ = tagset_size\n",
    "    self.mode = mode\n",
    "    self.dropout = dropout\n",
    "    self.bidirectional = bidirectional\n",
    "\n",
    "    self._word_embedding = nn.Embedding(num_embeddings=vocabulary_size,         \n",
    "                                         embedding_dim=word_embedding_dim, \n",
    "                                         padding_idx=token2idx['<PAD>'])\n",
    "    \n",
    "    if mode == 'GRU':\n",
    "      self._gru = nn.GRU(input_size=word_embedding_dim,                        \n",
    "                          hidden_size=hidden_dim,                           \n",
    "                          batch_first=True, \n",
    "                          num_layers = n_layers, \n",
    "                          bidirectional = bidirectional,\n",
    "                          dropout = dropout if n_layers > 1 else 0)\n",
    "    elif mode == 'LSTM':\n",
    "        self._lstm = nn.LSTM(input_size=word_embedding_dim,                         \n",
    "                         hidden_size=hidden_dim,\n",
    "                         batch_first=True, \n",
    "                         num_layers = n_layers, \n",
    "                         bidirectional = bidirectional,\n",
    "                         dropout = dropout if n_layers > 1 else 0)\n",
    "    \n",
    "    self._fc = nn.Linear(hidden_dim * 2 if bidirectional else hidden_dim, tagset_size)                         \n",
    "    self._softmax = nn.LogSoftmax(dim=1)                                        \n",
    "    \n",
    "    self.training_loss_ = list()                                               \n",
    "    self.training_accuracy_ = list()\n",
    "\n",
    "    if torch.cuda.is_available():                                              \n",
    "      self.cuda()\n",
    "  \n",
    "  \n",
    "  def pad_and_encode(self, sentences, labels):\n",
    "    assert len(sentences)==len(labels)\n",
    "    assert np.all([len(sentence)==len(tags) for sentence, tags in zip(sentences, labels)])\n",
    "    max_sentence_length = np.max([len(sentence) for sentence in sentences]) \n",
    "    padded_sentences = torch.zeros(len(sentences), max_sentence_length,     \n",
    "                                  dtype=torch.long)\n",
    "    padded_sentences[:] = token2idx['<PAD>']\n",
    "    padded_labels = torch.zeros(len(sentences), max_sentence_length, \n",
    "                                dtype=torch.long)\n",
    "    padded_labels[:] = tag2idx['<PAD>']\n",
    "    for i, (sentence, tags) in enumerate(zip(sentences, labels)):               \n",
    "      for j, token in enumerate(sentence):\n",
    "        if token in token2idx.keys():\n",
    "          padded_sentences[i, j] = token2idx[token]\n",
    "        else:\n",
    "          padded_sentences[i, j] = token2idx['<UNK>']\n",
    "      for j, tag in enumerate(tags):\n",
    "        padded_labels[i, j] = tag2idx[tag]\n",
    "    return padded_sentences, padded_labels\n",
    "\n",
    "\n",
    "  def batch_iterator(self, sentences, labels, batch_size=64):\n",
    "    assert len(sentences) == len(labels)\n",
    "    for i in range(0, len(sentences), batch_size):\n",
    "      X, y = self.pad_and_encode(sentences[i:min(i+batch_size, len(sentences))], \n",
    "                            labels[i:min(i+batch_size, len(sentences))])\n",
    "      if torch.cuda.is_available():                                               \n",
    "         yield (X.cuda(), y.cuda())\n",
    "      else:\n",
    "        yield (X, y)\n",
    "\n",
    "\n",
    "  def fit(self, sent, lab):\n",
    "\n",
    "      self.sent = sent\n",
    "      self.lab = lab\n",
    "      loss_function = nn.NLLLoss(ignore_index=tag2idx['<PAD>'])                      \n",
    "                                                                                 \n",
    "      optimizer = torch.optim.Adam(model.parameters(), lr=0.01)                              \n",
    "\n",
    "      batch_size = 256                                                                              \n",
    "      for epoch in range(5):                                                        \n",
    "        with tqdm(self.batch_iterator(sent, lab, batch_size=256), \n",
    "                  total=len(sent)//batch_size+1, unit=\"batch\", desc=\"Epoch %i\" % epoch) as batches:\n",
    "          for inputs, targets in batches:                                           \n",
    "            model.zero_grad()                                                     \n",
    "            scores = model(inputs)                                                   \n",
    "            loss = loss_function(scores.view(-1, model.tagset_size_),                \n",
    "                                targets.view(-1))               \n",
    "            loss.backward()                                                           \n",
    "            optimizer.step()                                                          \n",
    "            predictions = scores.argmax(dim=2, keepdim=True).squeeze()                \n",
    "            mask = targets!=tag2idx['<PAD>']                                          \n",
    "            correct = (predictions[mask] == targets[mask]).sum().item()               \n",
    "            accuracy = correct / mask.sum().item()*100\n",
    "            model.training_accuracy_.append(accuracy)                                 \n",
    "            model.training_loss_.append(loss.item())                                  \n",
    "            batches.set_postfix(loss=loss.item(), accuracy=accuracy)                  \n",
    "\n",
    "\n",
    "  def forward(self, padded_sentences):\n",
    "      batch_size, max_sentence_length = padded_sentences.size()\n",
    "\n",
    "      embedded_sentences = self._word_embedding(padded_sentences)                     \n",
    "\n",
    "      sentence_lengths = (padded_sentences != token2idx['<PAD>']).sum(dim=1)        \n",
    "      sentence_lengths = sentence_lengths.long().cpu()                            \n",
    "      X = nn.utils.rnn.pack_padded_sequence(embedded_sentences, sentence_lengths, \n",
    "                                            batch_first=True, enforce_sorted=False)\n",
    "      if self.mode == 'GRU':\n",
    "        gru_out, _ = self._gru(X)                                                 \n",
    "        X, _ = nn.utils.rnn.pad_packed_sequence(gru_out, batch_first=True)         \n",
    "      \n",
    "      elif self.mode == 'LSTM':\n",
    "        lstm_out, _ = self._lstm(X)                                                 \n",
    "        X, _ = nn.utils.rnn.pad_packed_sequence(lstm_out, batch_first=True)         \n",
    "\n",
    "      X = X.contiguous().view(-1, X.shape[2])                                     \n",
    "      tag_space = self._fc(X)                                                     \n",
    "      tag_scores = self._softmax(tag_space)                                       \n",
    "      return tag_scores.view(batch_size, max_sentence_length, self.tagset_size_)\n",
    "\n",
    "      \n",
    "\n",
    "  def predict(self, X_test, y_test, batch_size=256):\n",
    "    preds = []\n",
    "    with torch.no_grad():                                                           \n",
    "      for inputs, targets in self.batch_iterator(X_test, y_test, batch_size): \n",
    "        scores = model(inputs)                                                      \n",
    "        predictions = scores.argmax(dim=2, keepdim=True).squeeze()                  \n",
    "        mask = targets!=tag2idx['<PAD>']                                            \n",
    "        preds += predictions[mask]                                                   \n",
    "    return preds\n",
    "\n",
    "  def score(self,X_test, y_test, batch_size=256):\n",
    "    with torch.no_grad():                                                           \n",
    "      n_correct = 0\n",
    "      n_total = 0\n",
    "      for inputs, targets in self.batch_iterator(X_test, y_test, batch_size): \n",
    "        scores = model(inputs)                                                      \n",
    "        predictions = scores.argmax(dim=2, keepdim=True).squeeze()                 \n",
    "        mask = targets!=tag2idx['<PAD>']                                            \n",
    "        n_correct += (predictions[mask] == targets[mask]).sum().item()              \n",
    "        n_total += mask.sum().item()\n",
    "      print(\"Test accuracy %.1f%%\" % (100*n_correct/n_total))\n",
    "\n"
   ]
  },
  {
   "cell_type": "code",
   "execution_count": 60,
   "metadata": {
    "colab": {
     "base_uri": "https://localhost:8080/"
    },
    "id": "L5YamFw8FsGR",
    "outputId": "4cdbbcdc-308f-4116-cf38-ecd2ddd372b9"
   },
   "outputs": [
    {
     "name": "stdout",
     "output_type": "stream",
     "text": [
      "SwedishTagger(\n",
      "  (_word_embedding): Embedding(14143, 64, padding_idx=14142)\n",
      "  (_lstm): LSTM(64, 64, num_layers=2, batch_first=True, dropout=0.2, bidirectional=True)\n",
      "  (_fc): Linear(in_features=128, out_features=17, bias=True)\n",
      "  (_softmax): LogSoftmax(dim=1)\n",
      ")\n"
     ]
    }
   ],
   "source": [
    "model = SwedishTagger(word_embedding_dim=64,                                      \n",
    "                   hidden_dim=64,                                          \n",
    "                   vocabulary_size=len(token2idx),                              \n",
    "                   tagset_size=len(tag2idx)-1,\n",
    "                   n_layers = 2, mode = 'LSTM', bidirectional = True, dropout = 0.2)                                  \n",
    "print(model)\n"
   ]
  },
  {
   "cell_type": "code",
   "execution_count": 61,
   "metadata": {
    "colab": {
     "base_uri": "https://localhost:8080/"
    },
    "id": "cgmRSzHRHque",
    "outputId": "ec9718a6-0ed1-4052-a1c1-ff006e4ecc95"
   },
   "outputs": [
    {
     "name": "stderr",
     "output_type": "stream",
     "text": [
      "Epoch 0: 100%|██████████| 19/19 [00:01<00:00, 13.34batch/s, accuracy=63, loss=1.11]\n",
      "Epoch 1: 100%|██████████| 19/19 [00:01<00:00, 13.59batch/s, accuracy=82.7, loss=0.538]\n",
      "Epoch 2: 100%|██████████| 19/19 [00:01<00:00, 13.94batch/s, accuracy=90.5, loss=0.296]\n",
      "Epoch 3: 100%|██████████| 19/19 [00:01<00:00, 14.42batch/s, accuracy=96, loss=0.14]\n",
      "Epoch 4: 100%|██████████| 19/19 [00:01<00:00, 14.22batch/s, accuracy=97.7, loss=0.0748]\n"
     ]
    }
   ],
   "source": [
    "model.fit(X_train, y_train)"
   ]
  },
  {
   "cell_type": "code",
   "execution_count": 62,
   "metadata": {
    "colab": {
     "base_uri": "https://localhost:8080/",
     "height": 297
    },
    "id": "UYmM2_p117Eu",
    "outputId": "4037d5d0-5cc2-4187-dec7-d0b45815cc2b"
   },
   "outputs": [
    {
     "data": {
      "image/png": "[encoded data removed]",
      "text/plain": [
       "<Figure size 432x288 with 2 Axes>"
      ]
     },
     "metadata": {
      "needs_background": "light",
      "tags": []
     },
     "output_type": "display_data"
    }
   ],
   "source": [
    "fig = plt.figure(figsize=(6, 4))\n",
    "ax = plt.subplot()\n",
    "ax.set_title(\"Plot for the (hopefully) decreasing loss over epochs\")\n",
    "ax.plot(model.training_loss_, 'b-')\n",
    "ax.set_ylabel(\"Training Loss\", color='b')\n",
    "ax.set_xlabel(\"Epoch\")\n",
    "# ax.set_yscale('log')\n",
    "ax.tick_params(axis='y', labelcolor='b')\n",
    "ax = ax.twinx()\n",
    "ax.plot(model.training_accuracy_, 'r-')\n",
    "ax.set_ylabel(\"Accuracy [%]\", color='r')\n",
    "ax.tick_params(axis='y', labelcolor='r')\n",
    "a = list(ax.axis())\n",
    "a[2] = 0\n",
    "a[3] = 100\n",
    "ax.axis(a)\n",
    "t = np.arange(0, len(model.training_accuracy_), len(X_train)//257)\n",
    "ax.set_xticks(ticks=t)\n",
    "ax.set_xticklabels(labels=np.arange(len(t)))\n",
    "fig.tight_layout()\n",
    "plt.show()"
   ]
  },
  {
   "cell_type": "code",
   "execution_count": 63,
   "metadata": {
    "colab": {
     "base_uri": "https://localhost:8080/"
    },
    "id": "E5bMzkH7HvA2",
    "outputId": "fb08a588-4dfb-4340-bf90-88a526d02876"
   },
   "outputs": [
    {
     "name": "stdout",
     "output_type": "stream",
     "text": [
      "Test accuracy 89.9%\n"
     ]
    }
   ],
   "source": [
    "model.score(X_test, y_test)"
   ]
  },
  {
   "cell_type": "markdown",
   "metadata": {
    "id": "ysCl8QmNqgE7"
   },
   "source": [
    "In this notebook I have included three models with different configurations for three languages (Polish, English, Swedish). \n",
    "The baseline tagger for Polish achieved 79.71% accuracy on the test set. Changing model \n",
    "to LSTM resulted in a jump in accuracy to 84.1% (with GRU layer - 85.2%). The further fine-tuning \n",
    "shown that even higher accuracy can be achieved when the model is bidirectional (LSTM, with 2 layers) - 86.4%. \n",
    "On the other hand, using regularisation improved the accuracy only slightly or even worsen the results - 85.1% \n",
    "(LSTM, dropout = 0.1), 84.8% (GRU, dropout = 0.1). Setting higher dropout values resulted in drop in accuracy \n",
    "on the test set - with dropout rate higher than 0.5 the results dropped even till approx. 30%. \n",
    "(I assume that the reson for this may be that the Polish tagger, probably due to morphological complexity, seems not \n",
    "to be performing as well as e.g. English tagger, therefore there is not necessary to reduce overfitting. On the other hand, \n",
    "using dropout did slighly improve performance of the English dataset.) I also investigated if increasing the number of layers/dimensions\n",
    "would have impact of the performance of the model - one of best functioning model for Polish was LSTM model,\n",
    "bidirectional with 1 layers and 96 dimensions which obtained accuracy 88.5%. The reason why the model works better with \n",
    "increased number of word embedding dimensions could be that morphological rich languages with many inflectional and derivational forms \n",
    "need more dimensions for better word representation - in contrast to e.g English. Therefore, models for less complex languages \n",
    "can obtain comparable results although being simpler.\n",
    "\n",
    "English baseline model obtains 86.67% accuracy, while RNN LSTM model - 88.1% (GRU - Test accuracy 89.8%). Bidirectional model (GRU) \n",
    "improved accuracy to 90.8%. In contrast to the Polish tagger, applying regularization (=0.2), resulted in increase of accuracy - 91.5%. \n",
    "\n",
    "Swedish baseline model obtains 82.51%, while RNN LSTM model - 84.9%  (GRU - Test accuracy 85.8%). Bidirectional LSTM model achieved 87.2% accuracy. \n",
    "Increasing the number of hidden layers to 64 resulted in 89.9% accuracy.  \n",
    "\n",
    "In the notebook the presented models are tuned to the parameters I found working best for the given datasets. All the taggers obtained approximately\n",
    "the same results. However, the highest accuracy score achieved the English Tagger, which also is the most simple model. Implementing more extensions\n",
    "to the models for Polsih and Swedish could probably result in even better performance.\n",
    "\n"
   ]
  }
 ],
 "metadata": {
  "accelerator": "GPU",
  "colab": {
   "collapsed_sections": [],
   "name": "ML_Assignment_3 ipynb",
   "provenance": []
  },
  "kernelspec": {
   "display_name": "Python 3 (ipykernel)",
   "language": "python",
   "name": "python3"
  },
  "language_info": {
   "codemirror_mode": {
    "name": "ipython",
    "version": 3
   },
   "file_extension": ".py",
   "mimetype": "text/x-python",
   "name": "python",
   "nbconvert_exporter": "python",
   "pygments_lexer": "ipython3",
   "version": "3.9.10"
  }
 },
 "nbformat": 4,
 "nbformat_minor": 1
}
