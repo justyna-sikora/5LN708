{
  "nbformat": 4,
  "nbformat_minor": 0,
  "metadata": {
    "colab": {
      "name": "Copy of Assignment 4 - Gendered Directions in Embeddings.ipynb",
      "provenance": [],
      "collapsed_sections": []
    },
    "kernelspec": {
      "display_name": "Python 3",
      "name": "python3"
    },
    "language_info": {
      "name": "python"
    }
  },
  "cells": [
    {
      "cell_type": "markdown",
      "metadata": {
        "id": "6u4bIRSBpFcX"
      },
      "source": [
        "## Assignment 4: Gendered Directions in Embeddings\n",
        "\n"
      ]
    },
    {
      "cell_type": "code",
      "metadata": {
        "colab": {
          "base_uri": "https://localhost:8080/"
        },
        "id": "g1-78pxMAa_Q",
        "outputId": "5b2206cb-672f-4ab0-e405-95f182d4b4e3"
      },
      "source": [
        "import numpy as np\n",
        "from urllib.request import urlopen\n",
        "from tqdm import tqdm\n",
        "import os.path\n",
        "import time\n",
        "\n",
        "class AlignedEmbeddingLoader(object):\n",
        "  \"\"\"This data loader will download an aligned fasttext embedding given a two letter language code.\n",
        "  More information ca be found at https://fasttext.cc/docs/en/aligned-vectors.html .\"\"\"\n",
        "  def __init__(self, lang='en'):\n",
        "    \"\"\"Data loader\"\"\"\n",
        "    self._dataurl = \"https://dl.fbaipublicfiles.com/fasttext/vectors-aligned/wiki.%s.align.vec\" % lang\n",
        "    cachefile = \"cache_%s.npz\" % lang\n",
        "    if os.path.exists(cachefile):\n",
        "      print(\"Loading cached data...\", end=\"\")\n",
        "      t = time.time()\n",
        "      data = np.load(cachefile)\n",
        "      self.idx2token_ = list(data['idx2token'])\n",
        "      self.vectors_ = data['vectors']\n",
        "      print(\"done (%isec)\" % (time.time()-t), flush=True)\n",
        "    else:\n",
        "      with urlopen(self._dataurl) as remote_file:\n",
        "        get_decoded_line = lambda file: file.readline().decode('utf-8')\n",
        "        self.n_tokens, self.n_dim = [int(n) for n in get_decoded_line(remote_file).split()]\n",
        "        self.idx2token_ = list()\n",
        "        self.vectors_ = np.zeros((self.n_tokens, self.n_dim), dtype=np.float32)\n",
        "        for n in tqdm(range(self.vectors_.shape[0]), desc=\"Downloading and parsing vectors\"):\n",
        "          textline = get_decoded_line(remote_file)\n",
        "          linedata = textline.split(' ')\n",
        "          self.idx2token_.append(linedata[0])\n",
        "          self.vectors_[n, :] = np.asarray(linedata[1:], dtype=np.float32)\n",
        "      np.savez(cachefile, vectors=self.vectors_, idx2token=self.idx2token_)\n",
        "    self.token2idx_ = {token:i for i, token in enumerate(self.idx2token_)}\n",
        "\n",
        "loaded_embedding = AlignedEmbeddingLoader('en')\n",
        "\n",
        "!ls -l"
      ],
      "execution_count": 1,
      "outputs": [
        {
          "output_type": "stream",
          "text": [
            "Downloading and parsing vectors: 100%|██████████| 2519370/2519370 [08:09<00:00, 5142.07it/s]\n"
          ],
          "name": "stderr"
        },
        {
          "output_type": "stream",
          "text": [
            "total 5196212\n",
            "-rw-r--r-- 1 root root 5320910082 Jun  2 21:42 cache_en.npz\n",
            "drwxr-xr-x 1 root root       4096 Jun  1 13:40 sample_data\n"
          ],
          "name": "stdout"
        }
      ]
    },
    {
      "cell_type": "markdown",
      "metadata": {
        "id": "rEuxXfXilufb"
      },
      "source": [
        "## Your analyzer\n",
        "This is the analyzer. Your task is to finish this in line with the unit tests, the assignment text specifications, and the paper Bolukbasi (2016)."
      ]
    },
    {
      "cell_type": "code",
      "metadata": {
        "id": "sREGXFXQ9rwv"
      },
      "source": [
        "from sklearn.metrics.pairwise import cosine_similarity, euclidean_distances\n",
        "from sklearn.metrics import pairwise_distances\n",
        "\n",
        "class EmbeddingAnalyzer(object):\n",
        "  def __init__(self, embedding):\n",
        "    self.vectors_ = embedding.vectors_\n",
        "    self.token2idx_ = embedding.token2idx_\n",
        "    self.idx2token_ = embedding.idx2token_\n",
        "\n",
        "  def __len__(self):\n",
        "    \"\"\"Gives the number of tokens in the embedding.\"\"\"\n",
        "    return len(self.vectors_)\n",
        "\n",
        "  def __getitem__(self, tokens):\n",
        "    \"\"\"Returns the vectors for a token or a list of tokens.\"\"\"\n",
        "    ind = []\n",
        "    if type(tokens) == list:\n",
        "      vec = []\n",
        "      for tok in tokens:\n",
        "        try:\n",
        "          i = self.token2idx_[tok]\n",
        "          ind.append(i)\n",
        "        except KeyError:\n",
        "          continue  \n",
        "      for idx in ind:\n",
        "       v = np.array(self.vectors_[idx])\n",
        "       vec.append(v)\n",
        "    else:\n",
        "      vec = self.vectors_[self.token2idx_[tokens]]\n",
        "      return vec\n",
        "    return np.array(vec)    \n",
        "\n",
        "  def __contains__(self, token):\n",
        "    \"\"\"Allows a user query if a tokens is in the embedding.\"\"\"\n",
        "    try:\n",
        "      return self.token2idx_[token]\n",
        "    except KeyError:\n",
        "      pass\n",
        "\n",
        "  def projection(self, direction, vectors):\n",
        "    \"\"\"The cosine similarity between a reference direction and a matrix of word vectors.    \n",
        "    direction:\n",
        "      A vector\n",
        "    vectors:\n",
        "      A row matrix with word vectors\"\"\"\n",
        "    res = []\n",
        "    if vectors.ndim == 1:\n",
        "     uv = cosine_similarity(direction.reshape(1, -1), vectors.reshape(1, -1))\n",
        "     return uv\n",
        "    else:\n",
        "      for r in vectors:\n",
        "        uv = cosine_similarity(direction.reshape(1, -1), r.reshape(1, -1))\n",
        "        res.append(uv)\n",
        "      return res\n",
        "     \n",
        "\n",
        "  def simple_analogy(self, pair, query, k=5):\n",
        "    \"\"\"Simple/Classic word analogy as: man - woman = king - queen\"\"\"\n",
        "    v1, v2 = pair[0], pair[1]\n",
        "    vec = lambda token: np.vstack(self.vectors_[self.token2idx_[token], :]).T\n",
        "    v = vec(query) - vec(v1) + vec(v2) \n",
        "    distances = pairwise_distances(self.vectors_, v, metric='euclidean').ravel()\n",
        "    res = []\n",
        "    for idx in np.argsort(distances)[:k]:\n",
        "      res.append(self.idx2token_[idx])\n",
        "    return res\n",
        "\n",
        "\n",
        "  def similarity(self, token1, token2):\n",
        "    \"\"\"Returns the cosine similarity between two tokens.\"\"\"\n",
        "    token1 = self.__getitem__(token1).reshape(1, -1)\n",
        "    token2 = self.__getitem__(token2).reshape(1, -1)\n",
        "    cos_similarity = cosine_similarity(token1, token2)\n",
        "        \n",
        "    return cos_similarity[0]\n",
        "\n",
        "  def analogies(self, analogy_direction, tokens):\n",
        "    \"\"\"The more complex word analogy method\"\"\"  \n",
        "    top = []  \n",
        "    for query in tokens:\n",
        "      v_query = np.array(self.__getitem__(query)).reshape(1, -1)\n",
        "      max_cosine_sim = -10000            \n",
        "      for word in tokens:\n",
        "        if word in query:\n",
        "          pass   \n",
        "        else: \n",
        "          v = self.__getitem__(word).reshape(1, -1)    \n",
        "          if euclidean_distances(v_query - v) <= 1:\n",
        "            cosine_sim = cosine_similarity((analogy_direction.reshape(1,-1) +v), v_query)\n",
        "            if cosine_sim > max_cosine_sim:\n",
        "              max_cosine_sim = cosine_sim\n",
        "              analogy = word\n",
        "          else:\n",
        "            cosine_sim = 0\n",
        "      top.append((query, analogy))\n",
        "\n",
        "    return top\n",
        "\n",
        "analyzer = EmbeddingAnalyzer(loaded_embedding)\n",
        "\n",
        "assert 'man' in analyzer\n",
        "assert 'woman' in analyzer\n",
        "assert 'kdjfsfhgkdsjfdh' not in analyzer\n",
        "\n",
        "assert len(analyzer) > 100000\n",
        "\n",
        "assert type(analyzer['man']) is np.ndarray\n",
        "assert np.isclose(np.sum(analyzer['man']-analyzer['man']), 0)"
      ],
      "execution_count": 2,
      "outputs": []
    },
    {
      "cell_type": "markdown",
      "metadata": {
        "id": "EX_7UbfKeLzH"
      },
      "source": [
        "## Word similarity\n",
        "\n",
        "We should be able to meassure similarity as cosine similarity.\n",
        "\n",
        "$cos(\\overrightarrow{cat}, \\overrightarrow{dog}) \\geq cos(\\overrightarrow{cat}, \\overrightarrow{cow})$"
      ]
    },
    {
      "cell_type": "code",
      "metadata": {
        "id": "3_k-P7LW3jF0"
      },
      "source": [
        "assert analyzer.similarity('cat', 'dog') >= analyzer.similarity('cat', 'cow')"
      ],
      "execution_count": 3,
      "outputs": []
    },
    {
      "cell_type": "markdown",
      "metadata": {
        "id": "TKsJ7LfELybJ"
      },
      "source": [
        "## Word analogies\n",
        "\n",
        "One of the core tasks for showing any semantic properties in an embedding is finding word analogies. We can this of this as word a is to word b, as word c is to word d. Our task is to find word d, knowing a, b, and c.\n",
        "\n",
        "$\\overrightarrow{a} - \\overrightarrow{b} \\approx \\overrightarrow{c} - \\overrightarrow{d}$\n",
        "\n",
        "For gender, this becomes:\n",
        "\n",
        "$\\overrightarrow{man} - \\overrightarrow{woman} \\approx \\overrightarrow{king} - \\overrightarrow{x}$\n",
        "\n",
        "By rearranging we get:\n",
        "\n",
        "$\\overrightarrow{king} - \\overrightarrow{man} + \\overrightarrow{woman} \\approx \\overrightarrow{x}$"
      ]
    },
    {
      "cell_type": "code",
      "metadata": {
        "colab": {
          "base_uri": "https://localhost:8080/"
        },
        "id": "CMtTEzuvHDls",
        "outputId": "269caaf3-0c58-41be-f1f1-d12f3d959645"
      },
      "source": [
        "best_matches = analyzer.simple_analogy(('man', 'woman'), 'king', k=5)\n",
        "print(\"Matches (in order of similarity):\")\n",
        "for i, token in enumerate(best_matches):\n",
        "  print(i+1, token)\n",
        "\n",
        "assert 'queen' in analyzer.simple_analogy(('man', 'woman'), 'king', k=5)"
      ],
      "execution_count": 5,
      "outputs": [
        {
          "output_type": "stream",
          "text": [
            "Matches (in order of similarity):\n",
            "1 king\n",
            "2 queen\n",
            "3 princess\n",
            "4 regnant\n",
            "5 princesses\n"
          ],
          "name": "stdout"
        }
      ]
    },
    {
      "cell_type": "markdown",
      "metadata": {
        "id": "yY3FS9q5x9qr"
      },
      "source": [
        "We can do this for capitols too.\n",
        "\n",
        "$\\overrightarrow{France} - \\overrightarrow{Japan} \\approx \\overrightarrow{Paris} - \\overrightarrow{x}$"
      ]
    },
    {
      "cell_type": "code",
      "metadata": {
        "colab": {
          "base_uri": "https://localhost:8080/"
        },
        "id": "xL3dPVqKx9wa",
        "outputId": "c8b98589-bd37-4f79-a646-6bfb2e41908e"
      },
      "source": [
        "best_matches = analyzer.simple_analogy(('france', 'japan'), 'paris', k=5)\n",
        "print(\"Matches (in order of similarity):\")\n",
        "for i, token in enumerate(best_matches):\n",
        "  print(i+1, token)\n",
        "\n",
        "assert 'tokyo' in analyzer.simple_analogy(('france', 'japan'), 'paris', k=5)"
      ],
      "execution_count": 6,
      "outputs": [
        {
          "output_type": "stream",
          "text": [
            "Matches (in order of similarity):\n",
            "1 tokyo\n",
            "2 japan\n",
            "3 osaka\n",
            "4 kyoto\n",
            "5 tokyo \n"
          ],
          "name": "stdout"
        }
      ]
    },
    {
      "cell_type": "code",
      "metadata": {
        "colab": {
          "base_uri": "https://localhost:8080/"
        },
        "id": "Y2QpSrV-kxtx",
        "outputId": "be665a39-bcb7-4568-e92b-f6c60cd66f81"
      },
      "source": [
        "best_matches = analyzer.simple_analogy(('old', 'older'), 'big', k=5)\n",
        "print(\"Matches (in order of similarity):\")\n",
        "for i, token in enumerate(best_matches):\n",
        "  print(i+1, token)"
      ],
      "execution_count": 7,
      "outputs": [
        {
          "output_type": "stream",
          "text": [
            "Matches (in order of similarity):\n",
            "1 big\n",
            "2 bigger\n",
            "3 older\n",
            "4 brother/big\n",
            "5 brother/little\n"
          ],
          "name": "stdout"
        }
      ]
    },
    {
      "cell_type": "markdown",
      "metadata": {
        "id": "X1EknjnwpI2H"
      },
      "source": [
        "Please try doing this for at least one other famous category (e.g. comparing adjectives)."
      ]
    },
    {
      "cell_type": "markdown",
      "metadata": {
        "id": "XgPGM1cvzIIo"
      },
      "source": [
        "## Finding the genderedness of professions\n",
        "\n",
        "Bulokbasi (2016) has a repo for the paper. We can download their data for professions. This allows us to find the genderedness for our embedding and plot against their survey data."
      ]
    },
    {
      "cell_type": "code",
      "metadata": {
        "colab": {
          "base_uri": "https://localhost:8080/"
        },
        "id": "ABmxQ1Fu56fr",
        "outputId": "f00f172f-e996-4d3e-e843-6ac777276dd0"
      },
      "source": [
        "import json\n",
        "with urlopen('https://raw.githubusercontent.com/tolga-b/debiaswe/master/data/professions.json') as remote_file:\n",
        "  professions = {title: {'definitional': defi, 'stereotypical': ster} for title, defi, ster in json.load(remote_file)}\n",
        "print(\"Loaded %i professions\" % len(professions))"
      ],
      "execution_count": 8,
      "outputs": [
        {
          "output_type": "stream",
          "text": [
            "Loaded 320 professions\n"
          ],
          "name": "stdout"
        }
      ]
    },
    {
      "cell_type": "markdown",
      "metadata": {
        "id": "1mbuzbDNpygo"
      },
      "source": [
        "We want to find the projection of vectors for different profession on a gender direction. This can be done by finding the cosine similarity as:\n",
        "\n",
        "$cos(\\overrightarrow{man} - \\overrightarrow{woman}, \\overrightarrow{butcher})$\n",
        "\n",
        "$cos(\\overrightarrow{man} - \\overrightarrow{woman}, \\overrightarrow{ballerina})$\n",
        "\n",
        "The projection should be non-negative as $|cos(\\cdot,\\cdot)|$. However, by letting the projection method of the anlayzer give us the ccosine similarity, we can see the direction of the projection by looking at its sign."
      ]
    },
    {
      "cell_type": "code",
      "metadata": {
        "id": "uXVOOb8UEOsG"
      },
      "source": [
        "assert type(analyzer[['man', 'woman', 'butcher']]) is np.ndarray\n",
        "assert analyzer[['man', 'woman', 'butcher']].shape[0] == 3\n",
        "\n",
        "assert analyzer.projection(analyzer['man']-analyzer['woman'], analyzer['butcher']) > 0\n",
        "assert analyzer.projection(analyzer['man']-analyzer['woman'], analyzer['ballerina']) < 0"
      ],
      "execution_count": 10,
      "outputs": []
    },
    {
      "cell_type": "markdown",
      "metadata": {
        "id": "hvWMsRHWrZ-G"
      },
      "source": [
        "We create a woman-man direction."
      ]
    },
    {
      "cell_type": "code",
      "metadata": {
        "id": "o7qVcJM5_h7Y"
      },
      "source": [
        "direction = analyzer['man']-analyzer['woman']\n",
        "titles = [title for title in professions.keys() if title in analyzer]\n",
        "projection = analyzer.projection(analyzer['man']-analyzer['woman'], analyzer[titles])"
      ],
      "execution_count": 12,
      "outputs": []
    },
    {
      "cell_type": "markdown",
      "metadata": {
        "id": "I4ld8hekrdEm"
      },
      "source": [
        "The estimation of the gender direction can be improved by using several pairs. Again, we use the data from Bulokbasi (2016)."
      ]
    },
    {
      "cell_type": "code",
      "metadata": {
        "colab": {
          "base_uri": "https://localhost:8080/"
        },
        "id": "unzkpmHOs6Wi",
        "outputId": "7df5e8b7-3565-4408-e332-05c41e3a8662"
      },
      "source": [
        "import json\n",
        "with urlopen('https://raw.githubusercontent.com/tolga-b/debiaswe/master/data/definitional_pairs.json') as remote_file:\n",
        "  definitional_pairs = [(m, f) for m, f in json.load(remote_file)]\n",
        "definitional_pairs"
      ],
      "execution_count": 13,
      "outputs": [
        {
          "output_type": "execute_result",
          "data": {
            "text/plain": [
              "[('woman', 'man'),\n",
              " ('girl', 'boy'),\n",
              " ('she', 'he'),\n",
              " ('mother', 'father'),\n",
              " ('daughter', 'son'),\n",
              " ('gal', 'guy'),\n",
              " ('female', 'male'),\n",
              " ('her', 'his'),\n",
              " ('herself', 'himself'),\n",
              " ('Mary', 'John')]"
            ]
          },
          "metadata": {
            "tags": []
          },
          "execution_count": 13
        }
      ]
    },
    {
      "cell_type": "code",
      "metadata": {
        "id": "sueBKKyFGduH"
      },
      "source": [
        "direction2 = np.zeros(analyzer['man'].shape)\n",
        "for female, male in definitional_pairs:\n",
        "  direction2 += analyzer[male.lower()]\n",
        "  direction2 -= analyzer[female.lower()]\n",
        "\n",
        "projection2 = analyzer.projection(direction2, analyzer[titles])\n"
      ],
      "execution_count": 14,
      "outputs": []
    },
    {
      "cell_type": "markdown",
      "metadata": {
        "id": "DrRCBj3dr6m_"
      },
      "source": [
        "We can plot the relation between genderedness in the data and human annotation."
      ]
    },
    {
      "cell_type": "code",
      "metadata": {
        "colab": {
          "base_uri": "https://localhost:8080/",
          "height": 381
        },
        "id": "qxgJnULiG0_Q",
        "outputId": "40e46813-f7a8-495a-f7e9-723b1c1b9c66"
      },
      "source": [
        "import matplotlib.pyplot as plt\n",
        "import seaborn as sns\n",
        "\n",
        "fig = plt.figure(figsize=(12, 5))\n",
        "ax = fig.subplots(1, 2)\n",
        "stereotypicality = [professions[title]['stereotypical'] for title in titles]\n",
        "sns.regplot(x=projection, y=stereotypicality, ax=ax[0])\n",
        "a = sns.regplot(x=projection2, y=stereotypicality, ax=ax[1])\n",
        "ax[0].set_xlabel(\"Projection (one pair)\")\n",
        "ax[1].set_xlabel(\"Projection (several pairs)\")\n",
        "ax[0].set_ylabel(\"Human labelled stereotypicality\")\n",
        "fig.tight_layout(pad=.5)\n",
        "fig.show()"
      ],
      "execution_count": 15,
      "outputs": [
        {
          "output_type": "display_data",
          "data": {
            "image/png": "[encoded data removed]",
            "text/plain": [
              "<Figure size 864x360 with 2 Axes>"
            ]
          },
          "metadata": {
            "tags": [],
            "needs_background": "light"
          }
        }
      ]
    },
    {
      "cell_type": "code",
      "metadata": {
        "colab": {
          "base_uri": "https://localhost:8080/",
          "height": 381
        },
        "id": "Rb4MO33THKEN",
        "outputId": "8eda97f2-7b2c-488c-8c8c-37df6c1a40aa"
      },
      "source": [
        "fig = plt.figure(figsize=(12, 5))\n",
        "ax = fig.subplots(1, 2)\n",
        "definitionality = [professions[title]['definitional'] for title in titles]\n",
        "sns.regplot(x=projection, y=definitionality, ax=ax[0])\n",
        "a = sns.regplot(x=projection2, y=definitionality, ax=ax[1])\n",
        "ax[0].set_xlabel(\"Projection (one pair)\")\n",
        "ax[1].set_xlabel(\"Projection (several pairs)\")\n",
        "ax[0].set_ylabel(\"Human labelled definitional genderedness\")\n",
        "fig.tight_layout(pad=.5)\n",
        "fig.show()"
      ],
      "execution_count": 16,
      "outputs": [
        {
          "output_type": "display_data",
          "data": {
            "image/png": "[encoded data removed]",
            "text/plain": [
              "<Figure size 864x360 with 2 Axes>"
            ]
          },
          "metadata": {
            "tags": [],
            "needs_background": "light"
          }
        }
      ]
    },
    {
      "cell_type": "markdown",
      "metadata": {
        "id": "cjgbqFix9A6Z"
      },
      "source": [
        "## More analogies\n",
        "\n",
        "The paper defines a more advances procedure for analogies as:\n",
        "\n",
        "$S_{(a,b)}(x, y) = \\left\\{\\begin{matrix}\n",
        "cos(\\overrightarrow{a}-\\overrightarrow{b}, \\overrightarrow{x}-\\overrightarrow{y}) & \\parallel \\overrightarrow{x}-\\overrightarrow{y} \\parallel \\leq 1\\\\ \n",
        "0 &  \\text{otherwise}\n",
        "\\end{matrix}\\right.$\n",
        "\n",
        "This should return a list of tuples with word pairs."
      ]
    },
    {
      "cell_type": "code",
      "metadata": {
        "colab": {
          "base_uri": "https://localhost:8080/"
        },
        "id": "HY3EsrrTvxFx",
        "outputId": "7741aa95-7617-4203-9077-b1f9a1e1fba7"
      },
      "source": [
        "assert len(analyzer.analogies(analyzer['man']-analyzer['woman'], ['actor', 'actress'])) == 2\n",
        "assert type(analyzer.analogies(analyzer['man']-analyzer['woman'], ['actor', 'actress'])) == list\n",
        "assert type(analyzer.analogies(analyzer['man']-analyzer['woman'], ['actor', 'actress'])[0]) == tuple\n",
        "\n",
        "analyzer.analogies(analyzer['man']-analyzer['woman'], ['actor', 'actress'])"
      ],
      "execution_count": 17,
      "outputs": [
        {
          "output_type": "execute_result",
          "data": {
            "text/plain": [
              "[('actor', 'actress'), ('actress', 'actor')]"
            ]
          },
          "metadata": {
            "tags": []
          },
          "execution_count": 17
        }
      ]
    },
    {
      "cell_type": "code",
      "metadata": {
        "colab": {
          "base_uri": "https://localhost:8080/"
        },
        "id": "VK9et5C29AYD",
        "outputId": "3449f93d-1172-4269-e6e8-f5933c27caf8"
      },
      "source": [
        "analyzer.analogies(analogy_direction=direction2, tokens=titles)"
      ],
      "execution_count": 18,
      "outputs": [
        {
          "output_type": "execute_result",
          "data": {
            "text/plain": [
              "[('accountant', 'bookkeeper'),\n",
              " ('acquaintance', 'housekeeper'),\n",
              " ('actor', 'actress'),\n",
              " ('actress', 'actor'),\n",
              " ('administrator', 'bureaucrat'),\n",
              " ('adventurer', 'trader'),\n",
              " ('advocate', 'campaigner'),\n",
              " ('aide', 'officer'),\n",
              " ('alderman', 'councilman'),\n",
              " ('alter_ego', 'fashion_designer'),\n",
              " ('ambassador', 'envoy'),\n",
              " ('analyst', 'commentator'),\n",
              " ('anthropologist', 'sociologist'),\n",
              " ('archaeologist', 'anthropologist'),\n",
              " ('archbishop', 'priest'),\n",
              " ('architect', 'sculptor'),\n",
              " ('artist', 'painter'),\n",
              " ('artiste', 'performer'),\n",
              " ('assassin', 'hitman'),\n",
              " ('astronaut', 'scientist'),\n",
              " ('astronomer', 'mathematician'),\n",
              " ('athlete', 'swimmer'),\n",
              " ('attorney', 'solicitor'),\n",
              " ('author', 'writer'),\n",
              " ('baker', 'butler'),\n",
              " ('ballerina', 'dancer'),\n",
              " ('ballplayer', 'infielder'),\n",
              " ('banker', 'financier'),\n",
              " ('barber', 'hairdresser'),\n",
              " ('baron', 'socialite'),\n",
              " ('barrister', 'solicitor'),\n",
              " ('bartender', 'waitress'),\n",
              " ('biologist', 'scientist'),\n",
              " ('bishop', 'archbishop'),\n",
              " ('bodyguard', 'assassin'),\n",
              " ('bookkeeper', 'accountant'),\n",
              " ('boss', 'mobster'),\n",
              " ('boxer', 'wrestler'),\n",
              " ('broadcaster', 'journalist'),\n",
              " ('broker', 'stockbroker'),\n",
              " ('bureaucrat', 'administrator'),\n",
              " ('businessman', 'businesswoman'),\n",
              " ('businesswoman', 'businessman'),\n",
              " ('butcher', 'hairdresser'),\n",
              " ('butler', 'baker'),\n",
              " ('cabbie', 'trucker'),\n",
              " ('cameraman', 'cinematographer'),\n",
              " ('campaigner', 'environmentalist'),\n",
              " ('captain', 'lieutenant'),\n",
              " ('cardiologist', 'radiologist'),\n",
              " ('caretaker', 'housekeeper'),\n",
              " ('carpenter', 'foreman'),\n",
              " ('cartoonist', 'illustrator'),\n",
              " ('cellist', 'violinist'),\n",
              " ('chancellor', 'vice_chancellor'),\n",
              " ('chaplain', 'pastor'),\n",
              " ('character', 'protagonist'),\n",
              " ('chef', 'restaurateur'),\n",
              " ('chemist', 'physicist'),\n",
              " ('choreographer', 'dancer'),\n",
              " ('cinematographer', 'filmmaker'),\n",
              " ('citizen', 'lawmaker'),\n",
              " ('cleric', 'priest'),\n",
              " ('clerk', 'solicitor'),\n",
              " ('coach', 'manager'),\n",
              " ('collector', 'curator'),\n",
              " ('colonel', 'lieutenant'),\n",
              " ('columnist', 'journalist'),\n",
              " ('comedian', 'entertainer'),\n",
              " ('comic', 'cartoonist'),\n",
              " ('commander', 'lieutenant'),\n",
              " ('commentator', 'pundit'),\n",
              " ('commissioner', 'secretary'),\n",
              " ('composer', 'pianist'),\n",
              " ('conductor', 'soloist'),\n",
              " ('confesses', 'receptionist'),\n",
              " ('congressman', 'senator'),\n",
              " ('constable', 'policeman'),\n",
              " ('consultant', 'director'),\n",
              " ('cop', 'detective'),\n",
              " ('correspondent', 'journalist'),\n",
              " ('councilman', 'alderman'),\n",
              " ('councilor', 'councilman'),\n",
              " ('counselor', 'therapist'),\n",
              " ('critic', 'columnist'),\n",
              " ('crooner', 'singer'),\n",
              " ('crusader', 'warrior'),\n",
              " ('curator', 'librarian'),\n",
              " ('custodian', 'librarian'),\n",
              " ('dad', 'nanny'),\n",
              " ('dancer', 'choreographer'),\n",
              " ('dean', 'provost'),\n",
              " ('dentist', 'pharmacist'),\n",
              " ('deputy', 'secretary'),\n",
              " ('dermatologist', 'pediatrician'),\n",
              " ('detective', 'policeman'),\n",
              " ('diplomat', 'ambassador'),\n",
              " ('director', 'consultant'),\n",
              " ('doctor', 'dentist'),\n",
              " ('drummer', 'guitarist'),\n",
              " ('economist', 'sociologist'),\n",
              " ('editor', 'administrator'),\n",
              " ('educator', 'teacher'),\n",
              " ('electrician', 'welder'),\n",
              " ('employee', 'worker'),\n",
              " ('entertainer', 'performer'),\n",
              " ('entrepreneur', 'businesswoman'),\n",
              " ('environmentalist', 'campaigner'),\n",
              " ('envoy', 'ambassador'),\n",
              " ('epidemiologist', 'pediatrician'),\n",
              " ('evangelist', 'pastor'),\n",
              " ('farmer', 'housewife'),\n",
              " ('fashion_designer', 'alter_ego'),\n",
              " ('filmmaker', 'screenwriter'),\n",
              " ('financier', 'banker'),\n",
              " ('firebrand', 'warrior'),\n",
              " ('firefighter', 'fireman'),\n",
              " ('fireman', 'firefighter'),\n",
              " ('fisherman', 'sailor'),\n",
              " ('footballer', 'midfielder'),\n",
              " ('foreman', 'bookkeeper'),\n",
              " ('gangster', 'mobster'),\n",
              " ('gardener', 'housekeeper'),\n",
              " ('geologist', 'biologist'),\n",
              " ('goalkeeper', 'midfielder'),\n",
              " ('guitarist', 'vocalist'),\n",
              " ('hairdresser', 'waitress'),\n",
              " ('handyman', 'janitor'),\n",
              " ('headmaster', 'teacher'),\n",
              " ('historian', 'sociologist'),\n",
              " ('hitman', 'gangster'),\n",
              " ('homemaker', 'housewife'),\n",
              " ('hooker', 'baker'),\n",
              " ('housekeeper', 'nanny'),\n",
              " ('housewife', 'homemaker'),\n",
              " ('illustrator', 'cartoonist'),\n",
              " ('industrialist', 'philanthropist'),\n",
              " ('infielder', 'ballplayer'),\n",
              " ('inspector', 'superintendent'),\n",
              " ('instructor', 'teacher'),\n",
              " ('inventor', 'scientist'),\n",
              " ('investigator', 'detective'),\n",
              " ('janitor', 'waitress'),\n",
              " ('jeweler', 'shopkeeper'),\n",
              " ('journalist', 'columnist'),\n",
              " ('judge', 'attorney'),\n",
              " ('jurist', 'lawyer'),\n",
              " ('laborer', 'worker'),\n",
              " ('landlord', 'shopkeeper'),\n",
              " ('lawmaker', 'legislator'),\n",
              " ('lawyer', 'attorney'),\n",
              " ('lecturer', 'professor'),\n",
              " ('legislator', 'lawmaker'),\n",
              " ('librarian', 'curator'),\n",
              " ('lieutenant', 'colonel'),\n",
              " ('lifeguard', 'firefighter'),\n",
              " ('lyricist', 'singer'),\n",
              " ('maestro', 'violinist'),\n",
              " ('magician', 'entertainer'),\n",
              " ('magistrate', 'solicitor'),\n",
              " ('maid', 'housekeeper'),\n",
              " ('manager', 'coach'),\n",
              " ('marksman', 'trooper'),\n",
              " ('marshal', 'commander'),\n",
              " ('mathematician', 'physicist'),\n",
              " ('mechanic', 'electrician'),\n",
              " ('mediator', 'negotiator'),\n",
              " ('medic', 'firefighter'),\n",
              " ('midfielder', 'goalkeeper'),\n",
              " ('minister', 'undersecretary'),\n",
              " ('missionary', 'pastor'),\n",
              " ('mobster', 'gangster'),\n",
              " ('monk', 'nun'),\n",
              " ('musician', 'singer'),\n",
              " ('nanny', 'housekeeper'),\n",
              " ('narrator', 'protagonist'),\n",
              " ('naturalist', 'biologist'),\n",
              " ('negotiator', 'diplomat'),\n",
              " ('neurologist', 'pathologist'),\n",
              " ('neurosurgeon', 'cardiologist'),\n",
              " ('novelist', 'writer'),\n",
              " ('nun', 'monk'),\n",
              " ('nurse', 'dentist'),\n",
              " ('observer', 'correspondent'),\n",
              " ('officer', 'commander'),\n",
              " ('organist', 'pianist'),\n",
              " ('painter', 'sculptor'),\n",
              " ('paralegal', 'accountant'),\n",
              " ('parishioner', 'pastor'),\n",
              " ('parliamentarian', 'politician'),\n",
              " ('pastor', 'parishioner'),\n",
              " ('pathologist', 'neurologist'),\n",
              " ('patrolman', 'policeman'),\n",
              " ('pediatrician', 'cardiologist'),\n",
              " ('performer', 'entertainer'),\n",
              " ('pharmacist', 'physician'),\n",
              " ('philanthropist', 'businessman'),\n",
              " ('philosopher', 'sociologist'),\n",
              " ('photographer', 'photojournalist'),\n",
              " ('photojournalist', 'photographer'),\n",
              " ('physician', 'surgeon'),\n",
              " ('physicist', 'mathematician'),\n",
              " ('pianist', 'violinist'),\n",
              " ('planner', 'architect'),\n",
              " ('playwright', 'novelist'),\n",
              " ('plumber', 'electrician'),\n",
              " ('poet', 'playwright'),\n",
              " ('policeman', 'patrolman'),\n",
              " ('politician', 'lawyer'),\n",
              " ('pollster', 'analyst'),\n",
              " ('preacher', 'pastor'),\n",
              " ('president', 'secretary'),\n",
              " ('priest', 'parishioner'),\n",
              " ('principal', 'superintendent'),\n",
              " ('prisoner', 'soldier'),\n",
              " ('professor', 'lecturer'),\n",
              " ('programmer', 'planner'),\n",
              " ('promoter', 'publicist'),\n",
              " ('proprietor', 'shopkeeper'),\n",
              " ('prosecutor', 'attorney'),\n",
              " ('protagonist', 'character'),\n",
              " ('protege', 'bodyguard'),\n",
              " ('protester', 'policeman'),\n",
              " ('provost', 'chaplain'),\n",
              " ('psychiatrist', 'psychologist'),\n",
              " ('psychologist', 'psychiatrist'),\n",
              " ('publicist', 'journalist'),\n",
              " ('pundit', 'commentator'),\n",
              " ('rabbi', 'preacher'),\n",
              " ('radiologist', 'cardiologist'),\n",
              " ('ranger', 'trooper'),\n",
              " ('realtor', 'businesswoman'),\n",
              " ('receptionist', 'waitress'),\n",
              " ('researcher', 'scientist'),\n",
              " ('restaurateur', 'chef'),\n",
              " ('sailor', 'soldier'),\n",
              " ('saint', 'monk'),\n",
              " ('salesman', 'bookkeeper'),\n",
              " ('saxophonist', 'trumpeter'),\n",
              " ('scholar', 'historian'),\n",
              " ('scientist', 'researcher'),\n",
              " ('screenwriter', 'filmmaker'),\n",
              " ('sculptor', 'painter'),\n",
              " ('secretary', 'undersecretary'),\n",
              " ('senator', 'congressman'),\n",
              " ('sergeant', 'lieutenant'),\n",
              " ('servant', 'housekeeper'),\n",
              " ('serviceman', 'soldier'),\n",
              " ('shopkeeper', 'hairdresser'),\n",
              " ('singer', 'vocalist'),\n",
              " ('skipper', 'captain'),\n",
              " ('socialite', 'businesswoman'),\n",
              " ('sociologist', 'anthropologist'),\n",
              " ('soldier', 'serviceman'),\n",
              " ('solicitor', 'barrister'),\n",
              " ('soloist', 'cellist'),\n",
              " ('sportsman', 'athlete'),\n",
              " ('sportswriter', 'columnist'),\n",
              " ('statesman', 'diplomat'),\n",
              " ('steward', 'bureaucrat'),\n",
              " ('stockbroker', 'banker'),\n",
              " ('strategist', 'analyst'),\n",
              " ('student', 'teacher'),\n",
              " ('stylist', 'hairdresser'),\n",
              " ('substitute', 'understudy'),\n",
              " ('superintendent', 'inspector'),\n",
              " ('surgeon', 'physician'),\n",
              " ('surveyor', 'geologist'),\n",
              " ('swimmer', 'athlete'),\n",
              " ('teacher', 'educator'),\n",
              " ('technician', 'electrician'),\n",
              " ('teenager', 'housewife'),\n",
              " ('therapist', 'psychiatrist'),\n",
              " ('trader', 'broker'),\n",
              " ('treasurer', 'secretary'),\n",
              " ('trooper', 'patrolman'),\n",
              " ('trucker', 'bartender'),\n",
              " ('trumpeter', 'saxophonist'),\n",
              " ('tutor', 'teacher'),\n",
              " ('tycoon', 'businessman'),\n",
              " ('undersecretary', 'deputy'),\n",
              " ('understudy', 'goalkeeper'),\n",
              " ('valedictorian', 'lecturer'),\n",
              " ('vice_chancellor', 'alter_ego'),\n",
              " ('violinist', 'cellist'),\n",
              " ('vocalist', 'guitarist'),\n",
              " ('waiter', 'waitress'),\n",
              " ('waitress', 'bartender'),\n",
              " ('warden', 'chaplain'),\n",
              " ('warrior', 'assassin'),\n",
              " ('welder', 'electrician'),\n",
              " ('worker', 'laborer'),\n",
              " ('wrestler', 'boxer'),\n",
              " ('writer', 'novelist')]"
            ]
          },
          "metadata": {
            "tags": []
          },
          "execution_count": 18
        }
      ]
    }
  ]
}